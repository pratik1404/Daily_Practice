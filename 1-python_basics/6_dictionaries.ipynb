{
 "cells": [
  {
   "cell_type": "markdown",
   "id": "ed24ac61",
   "metadata": {},
   "source": [
    "# Dictionaries\n",
    "\n",
    "##### Dictionaries are unordered collection of items. They store data in key value pairs . Key must be unique and immutable (eg string , numebr ,or tuples , which value can be of any type ) "
   ]
  },
  {
   "cell_type": "code",
   "execution_count": 15,
   "id": "b965892f",
   "metadata": {},
   "outputs": [
    {
     "name": "stdout",
     "output_type": "stream",
     "text": [
      "Pratik\n"
     ]
    }
   ],
   "source": [
    "student = {\n",
    "    \"name\" : \"Pratik\",\n",
    "    \"age\" : 22 ,\n",
    "    \"City\" : \"Pune\"\n",
    "}\n",
    "\n",
    "print(student[\"name\"])"
   ]
  },
  {
   "cell_type": "code",
   "execution_count": 16,
   "id": "3d4712cd",
   "metadata": {},
   "outputs": [
    {
     "name": "stdout",
     "output_type": "stream",
     "text": [
      "{'name': 'Pratik', 'age': 22, 'City': 'Pune'}\n"
     ]
    }
   ],
   "source": [
    "print(student)"
   ]
  },
  {
   "cell_type": "code",
   "execution_count": 17,
   "id": "608a5979",
   "metadata": {},
   "outputs": [
    {
     "name": "stdout",
     "output_type": "stream",
     "text": [
      "Pratik\n",
      "None\n",
      "not available\n",
      "Pratik\n"
     ]
    }
   ],
   "source": [
    "# we can also access the element using default get() method \n",
    "\n",
    "print(student.get(\"name\"))\n",
    "print(student.get(\"last_name\"))\n",
    "print(student.get(\"last_name\" , \"not available\"))\n",
    "print(student.get(\"name\" , \"what will happend?\")) # the after comma condition works when the given condition is not available"
   ]
  },
  {
   "cell_type": "code",
   "execution_count": 18,
   "id": "82dfbe09",
   "metadata": {},
   "outputs": [
    {
     "name": "stdout",
     "output_type": "stream",
     "text": [
      "{'name': 'Pratik', 'age': 33, 'City': 'Pune'}\n",
      "{'name': 'Pratik', 'age': 33, 'City': 'Pune', 'address': 'India'}\n"
     ]
    }
   ],
   "source": [
    "## Modifying dictionary element \n",
    "# Dictionary are mutable ,so you can add,  update or delete element \n",
    "\n",
    "\n",
    "student[\"age\"] = 33 \n",
    "print(student)\n",
    "student[\"address\"] = \"India\"\n",
    "print(student)"
   ]
  },
  {
   "cell_type": "code",
   "execution_count": 19,
   "id": "e6743df0",
   "metadata": {},
   "outputs": [
    {
     "name": "stdout",
     "output_type": "stream",
     "text": [
      "{'name': 'Pratik', 'age': 33, 'City': 'Pune'}\n"
     ]
    }
   ],
   "source": [
    "## we can delete the key value pair by using \"del\" method \n",
    "\n",
    "\n",
    "del student[\"address\"] \n",
    "print(student)"
   ]
  },
  {
   "cell_type": "code",
   "execution_count": 20,
   "id": "2ba6ad0a",
   "metadata": {},
   "outputs": [
    {
     "name": "stdout",
     "output_type": "stream",
     "text": [
      "dict_keys(['name', 'age', 'City'])\n",
      "dict_values(['Pratik', 33, 'Pune'])\n",
      "dict_items([('name', 'Pratik'), ('age', 33), ('City', 'Pune')])\n"
     ]
    }
   ],
   "source": [
    "keys = student.keys()\n",
    "print(keys)\n",
    "\n",
    "values = student.values()\n",
    "print(values)\n",
    "\n",
    "items = student.items()\n",
    "print(items)"
   ]
  },
  {
   "cell_type": "code",
   "execution_count": 21,
   "id": "405f3ca6",
   "metadata": {},
   "outputs": [
    {
     "name": "stdout",
     "output_type": "stream",
     "text": [
      "{'name': 'Pratik', 'age': 33, 'City': 'Pune'}\n",
      "{'name': 'Pratik', 'age': 33, 'City': 'Pune'}\n"
     ]
    }
   ],
   "source": [
    "#shallow copy - suppose the main dictionary's key value pair got somme issue / it gets deleted \\\n",
    "#then from where to get such data .. Hence shallow copy helps to copy the real data into some other memory \n",
    "\n",
    "\n",
    "student_copy = student.copy()\n",
    "\n",
    "print(student_copy)\n",
    "print(student)\n"
   ]
  },
  {
   "cell_type": "code",
   "execution_count": 22,
   "id": "97b11624",
   "metadata": {},
   "outputs": [
    {
     "name": "stdout",
     "output_type": "stream",
     "text": [
      "{'name': 'Pratik', 'age': 33, 'City': 'Pune'}\n",
      "{'name': 'Pratik Patil', 'age': 33, 'City': 'Pune'}\n"
     ]
    }
   ],
   "source": [
    "student[\"name\"] = \"Pratik Patil\"\n",
    "\n",
    "print(student_copy)  # Look theere is/are no changes here \n",
    "print(student)       # changes happens only in original "
   ]
  },
  {
   "cell_type": "code",
   "execution_count": 23,
   "id": "d8ec7035",
   "metadata": {},
   "outputs": [
    {
     "name": "stdout",
     "output_type": "stream",
     "text": [
      "name\n",
      "age\n",
      "City\n"
     ]
    }
   ],
   "source": [
    "# we can use loops to iterate inside dictionaries \n",
    "\n",
    "for items in student: \n",
    "    print(items)\n",
    "    "
   ]
  },
  {
   "cell_type": "code",
   "execution_count": 24,
   "id": "bda787df",
   "metadata": {},
   "outputs": [
    {
     "name": "stdout",
     "output_type": "stream",
     "text": [
      "name\n",
      "age\n",
      "City\n"
     ]
    }
   ],
   "source": [
    "## by keys and values function\n",
    "\n",
    "for key in student.keys():\n",
    "    print(key)"
   ]
  },
  {
   "cell_type": "code",
   "execution_count": 25,
   "id": "9cf47818",
   "metadata": {},
   "outputs": [
    {
     "name": "stdout",
     "output_type": "stream",
     "text": [
      "Pratik Patil\n",
      "33\n",
      "Pune\n"
     ]
    }
   ],
   "source": [
    "for values in student.values():\n",
    "    print(values)"
   ]
  },
  {
   "cell_type": "code",
   "execution_count": 30,
   "id": "9eb28ff5",
   "metadata": {},
   "outputs": [
    {
     "name": "stdout",
     "output_type": "stream",
     "text": [
      "name:Pratik Patil\n",
      "age:33\n",
      "City:Pune\n"
     ]
    }
   ],
   "source": [
    "for key, value in student.items() :\n",
    "    print(f\"{key}:{value}\")"
   ]
  },
  {
   "cell_type": "code",
   "execution_count": null,
   "id": "8e81cc29",
   "metadata": {},
   "outputs": [
    {
     "name": "stdout",
     "output_type": "stream",
     "text": [
      "Pushakr\n",
      "Pratik\n"
     ]
    }
   ],
   "source": [
    "## Nested Dictionary\n",
    "\n",
    "students = {\n",
    "    \"student1\" : {\"name\" : \"Pratik\" , \"age\" : 21 , \"city\" : \"Pune\"},\n",
    "    \"stduent2\" : {\"name\" : \"Pushakr\" , \"age\" : 22 , \"city\" :  \"Pune\"}\n",
    "} \n",
    "\n",
    "print(students[\"stduent2\"][\"name\"])\n",
    "print(students [\"student1\"][\"name\"])"
   ]
  },
  {
   "cell_type": "code",
   "execution_count": 41,
   "id": "7cc7337c",
   "metadata": {},
   "outputs": [
    {
     "name": "stdout",
     "output_type": "stream",
     "text": [
      "{'student1': {'name': 'Pratik', 'age': 21, 'city': 'Pune'}, 'stduent2': {'name': 'Pushakr', 'age': 22, 'city': 'Pune'}}\n"
     ]
    }
   ],
   "source": [
    "print(students)"
   ]
  },
  {
   "cell_type": "code",
   "execution_count": 44,
   "id": "fe36abe1",
   "metadata": {},
   "outputs": [
    {
     "name": "stdout",
     "output_type": "stream",
     "text": [
      "student1:{'name': 'Pratik', 'age': 21, 'city': 'Pune'}\n",
      "name:Pratik\n",
      "age:21\n",
      "city:Pune\n",
      "stduent2:{'name': 'Pushakr', 'age': 22, 'city': 'Pune'}\n",
      "name:Pushakr\n",
      "age:22\n",
      "city:Pune\n"
     ]
    }
   ],
   "source": [
    "## iterating over nested dictionaries\n",
    "\n",
    "for student_id , student_info in students.items() :\n",
    "    print(f\"{student_id}:{student_info}\")\n",
    "    for key , value in student_info.items():\n",
    "        print(f\"{key}:{value}\")"
   ]
  },
  {
   "cell_type": "code",
   "execution_count": 54,
   "id": "5814d12e",
   "metadata": {},
   "outputs": [
    {
     "name": "stdout",
     "output_type": "stream",
     "text": [
      "{0: 0, 1: 1, 2: 4, 3: 9, 4: 16, 5: 25, 6: 36, 7: 49, 8: 64, 9: 81}\n"
     ]
    }
   ],
   "source": [
    "# dictionary ccomprehension \n",
    "\n",
    "squares = { i : i**2 for i in range(10)}\n",
    "print(squares)"
   ]
  },
  {
   "cell_type": "code",
   "execution_count": 56,
   "id": "f0867968",
   "metadata": {},
   "outputs": [
    {
     "name": "stdout",
     "output_type": "stream",
     "text": [
      "{0: 0, 2: 4, 4: 16, 6: 36, 8: 64}\n"
     ]
    }
   ],
   "source": [
    "## conditional dictionary comprehension \n",
    "\n",
    "squares1 = {i : i**2 for i in range(10) if i % 2 == 0}\n",
    "print(squares1)"
   ]
  },
  {
   "cell_type": "code",
   "execution_count": null,
   "id": "26eabd77",
   "metadata": {},
   "outputs": [
    {
     "name": "stdout",
     "output_type": "stream",
     "text": [
      "{1: 1, 2: 2, 3: 3, 4: 4, 5: 5, 6: 6, 7: 7}\n"
     ]
    }
   ],
   "source": [
    "## practical example \n",
    "\n",
    "numbers = [1, 2, 2, 3, 3, 3, 4, 4, 4, 4,  5, 5, 5, 5, 5, 6, 6, 6, 6, 6, 6, 7, 7, 7, 7, 7, 7, 7]\n",
    "frequency = {}\n",
    "\n",
    "for number in numbers :\n",
    "    \n",
    "    if number in frequency :\n",
    "        frequency[number] += 1\n",
    "    else :\n",
    "        frequency[number] = 1\n",
    "\n",
    "print(frequency)"
   ]
  },
  {
   "cell_type": "code",
   "execution_count": 60,
   "id": "e7a59758",
   "metadata": {},
   "outputs": [
    {
     "name": "stdout",
     "output_type": "stream",
     "text": [
      "{'a': 10, 'b': 20, 'c': 30, 'd': 40}\n"
     ]
    }
   ],
   "source": [
    "# merge dictionary\n",
    "\n",
    "dict1 = {\"a\" : 10 , \"b\" : 20}\n",
    "dict2 = {\"c\" : 30 , \"d\" : 40}\n",
    "\n",
    "merged_dict = {**dict1 , **dict2 }\n",
    "print(merged_dict)"
   ]
  },
  {
   "cell_type": "code",
   "execution_count": null,
   "id": "f017d1eb",
   "metadata": {},
   "outputs": [],
   "source": []
  },
  {
   "cell_type": "code",
   "execution_count": null,
   "id": "126ed8f9",
   "metadata": {},
   "outputs": [],
   "source": []
  }
 ],
 "metadata": {
  "kernelspec": {
   "display_name": "Python 3",
   "language": "python",
   "name": "python3"
  },
  "language_info": {
   "codemirror_mode": {
    "name": "ipython",
    "version": 3
   },
   "file_extension": ".py",
   "mimetype": "text/x-python",
   "name": "python",
   "nbconvert_exporter": "python",
   "pygments_lexer": "ipython3",
   "version": "3.12.11"
  }
 },
 "nbformat": 4,
 "nbformat_minor": 5
}
