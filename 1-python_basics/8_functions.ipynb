{
 "cells": [
  {
   "cell_type": "markdown",
   "id": "397e8e54",
   "metadata": {},
   "source": [
    "### A function is a block of code that does a specific task.\n",
    "### We can reuse it whenever we want, without writing the same code again\n",
    "\n",
    "### simple syntax of def \n",
    "```python\n",
    "def function_name(): \n",
    "    #code inside the function\n",
    "    print(\"Hello!\")\n",
    "```"
   ]
  },
  {
   "cell_type": "code",
   "execution_count": 1,
   "id": "6e83e42d",
   "metadata": {},
   "outputs": [
    {
     "name": "stdout",
     "output_type": "stream",
     "text": [
      "0 1 1 2 "
     ]
    }
   ],
   "source": [
    "## fibonacci series number \n",
    "\n",
    "\n",
    "n = int(input(\"Enter the number : \"))\n",
    "\"\"\" This function is used to ceack the apllindrome number \"\"\"\n",
    "def is_fibonaci(n):\n",
    "    a = 0\n",
    "    b = 1\n",
    "\n",
    "    for _ in range(n):\n",
    "        print(a , end = \" \")\n",
    "        c = a + b\n",
    "        a = b\n",
    "        b = c\n",
    "        \n",
    "is_fibonaci(n)"
   ]
  },
  {
   "cell_type": "code",
   "execution_count": 2,
   "id": "5023db13",
   "metadata": {},
   "outputs": [
    {
     "name": "stdout",
     "output_type": "stream",
     "text": [
      "5 is odd \n"
     ]
    }
   ],
   "source": [
    "# check even or odd \n",
    "\n",
    "def even_odd(num):\n",
    "    if num % 2 == 0:\n",
    "        print(f\"{num} is even\")\n",
    "    else :\n",
    "        print(f\"{num} is odd \")\n",
    "\n",
    "num  = int(input(\"enter the number :\"))\n",
    "\n",
    "even_odd(num)"
   ]
  },
  {
   "cell_type": "code",
   "execution_count": 3,
   "id": "45a10ba8",
   "metadata": {},
   "outputs": [
    {
     "name": "stdout",
     "output_type": "stream",
     "text": [
      "Hello Pratik. Welcome to Ramchandra appartment.\n"
     ]
    }
   ],
   "source": [
    "## default parameter \n",
    "\n",
    "def greet(name):\n",
    "    print(f\"Hello {name}. Welcome to Ramchandra appartment.\")\n",
    "\n",
    "greet(\"Pratik\")"
   ]
  },
  {
   "cell_type": "code",
   "execution_count": 6,
   "id": "d7a3f09b",
   "metadata": {},
   "outputs": [
    {
     "ename": "TypeError",
     "evalue": "greet() missing 1 required positional argument: 'name'",
     "output_type": "error",
     "traceback": [
      "\u001b[1;31m---------------------------------------------------------------------------\u001b[0m",
      "\u001b[1;31mTypeError\u001b[0m                                 Traceback (most recent call last)",
      "Cell \u001b[1;32mIn[6], line 6\u001b[0m\n\u001b[0;32m      3\u001b[0m \u001b[38;5;28;01mdef\u001b[39;00m \u001b[38;5;21mgreet\u001b[39m(name):\n\u001b[0;32m      4\u001b[0m     \u001b[38;5;28mprint\u001b[39m(\u001b[38;5;124mf\u001b[39m\u001b[38;5;124m\"\u001b[39m\u001b[38;5;124mHello \u001b[39m\u001b[38;5;132;01m{\u001b[39;00mname\u001b[38;5;132;01m}\u001b[39;00m\u001b[38;5;124m. Welcome to Ramchandra appartment.\u001b[39m\u001b[38;5;124m\"\u001b[39m)\n\u001b[1;32m----> 6\u001b[0m \u001b[43mgreet\u001b[49m\u001b[43m(\u001b[49m\u001b[43m)\u001b[49m  \u001b[38;5;66;03m# error will occur because atleast 1 argument is required while calling the function . \u001b[39;00m\n",
      "\u001b[1;31mTypeError\u001b[0m: greet() missing 1 required positional argument: 'name'"
     ]
    }
   ],
   "source": [
    "## default parameter \n",
    "\n",
    "def greet(name):\n",
    "    print(f\"Hello {name}. Welcome to Ramchandra appartment.\")\n",
    "\n",
    "greet()  # error will occur because atleast 1 argument is required while calling the function . "
   ]
  },
  {
   "cell_type": "code",
   "execution_count": 7,
   "id": "ba4d5b56",
   "metadata": {},
   "outputs": [
    {
     "name": "stdout",
     "output_type": "stream",
     "text": [
      "Hello Guest. Welcome to Ramchandra appartment.\n"
     ]
    }
   ],
   "source": [
    "## default parameter \n",
    "\n",
    "def greet(name = \"Guest\"):\n",
    "    print(f\"Hello {name}. Welcome to Ramchandra appartment.\")\n",
    "\n",
    "greet()"
   ]
  },
  {
   "cell_type": "code",
   "execution_count": 8,
   "id": "3289b28a",
   "metadata": {},
   "outputs": [
    {
     "name": "stdout",
     "output_type": "stream",
     "text": [
      "1\n",
      "2\n",
      "3\n",
      "4\n",
      "5\n",
      "6\n",
      "7\n",
      "Pratik\n"
     ]
    }
   ],
   "source": [
    "## Positional Argument \n",
    "\n",
    "def print_numbers(*args):\n",
    "    for item in args:\n",
    "        print(item)\n",
    "\n",
    "print_numbers(1, 2, 3, 4, 5, 6, 7, \"Pratik\")"
   ]
  },
  {
   "cell_type": "code",
   "execution_count": 9,
   "id": "01c5fbfb",
   "metadata": {},
   "outputs": [
    {
     "name": "stdout",
     "output_type": "stream",
     "text": [
      "name:pratik\n",
      "age:21\n",
      "country:India\n"
     ]
    }
   ],
   "source": [
    "# keyword argument\n",
    "# In keyword arguments all the value will be in key value pairs \n",
    "# use double \"**\"\" aestrick for keyword argument \n",
    "\n",
    "def print_keyword(**kwargs):\n",
    "    for key , value in kwargs.items():\n",
    "        print(f\"{key}:{value}\")\n",
    "\n",
    "\n",
    "print_keyword(name = \"pratik\" , age = 21 , country = \"India\")"
   ]
  },
  {
   "cell_type": "code",
   "execution_count": 10,
   "id": "47cd3de7",
   "metadata": {},
   "outputs": [
    {
     "name": "stdout",
     "output_type": "stream",
     "text": [
      "Positonal argument value is 1\n",
      "Positonal argument value is 2\n",
      "Positonal argument value is 3\n",
      "Positonal argument value is 4\n",
      "Positonal argument value is 5\n",
      "Positonal argument value is 6\n",
      "Positonal argument value is 7\n",
      "Positonal argument value is Pratik\n",
      "name:Pratik Patil\n",
      "age:21\n",
      "City:Pune\n"
     ]
    }
   ],
   "source": [
    "## Now we will us eboth positional argument and keyword argument \n",
    "\n",
    "\n",
    "def print_details(*args , **kwargs):\n",
    "    for val in args:\n",
    "        print(f\"Positonal argument value is {val}\")\n",
    "\n",
    "    for key , value in kwargs.items():\n",
    "        print(f\"{key}:{value}\")\n",
    "\n",
    "print_details(1, 2, 3, 4, 5, 6, 7, \"Pratik\" , name = \"Pratik Patil\" , age = 21 , City = \"Pune\")\n",
    "\n",
    "## Always remember to give args value first then kwargs .. we cannot use any value in middleware "
   ]
  },
  {
   "cell_type": "code",
   "execution_count": 11,
   "id": "17ffb202",
   "metadata": {},
   "outputs": [
    {
     "data": {
      "text/plain": [
       "(15, 3)"
      ]
     },
     "execution_count": 11,
     "metadata": {},
     "output_type": "execute_result"
    }
   ],
   "source": [
    "## Return statement and multiple parameters \n",
    "\n",
    "def multiply(a, b):\n",
    "    return a*b , a\n",
    "\n",
    "multiply(3,5)"
   ]
  },
  {
   "cell_type": "markdown",
   "id": "f16b1f3b",
   "metadata": {},
   "source": [
    "# Function Practice session"
   ]
  },
  {
   "cell_type": "code",
   "execution_count": 12,
   "id": "d126b67e",
   "metadata": {},
   "outputs": [
    {
     "name": "stdout",
     "output_type": "stream",
     "text": [
      "89.6\n",
      "38.888888888888886\n"
     ]
    }
   ],
   "source": [
    "## Temperature conversion \n",
    "\n",
    "def convert_temperature(temp , unit):\n",
    "    if unit == \"c\" :\n",
    "        return  temp * 9/5 + 32 \n",
    "    \n",
    "    elif unit == \"f\":\n",
    "        return (temp - 32) * 5/9 \n",
    "    \n",
    "    else :\n",
    "        return None\n",
    "    \n",
    "print(convert_temperature(32, \"c\"))\n",
    "print(convert_temperature(102, \"f\"))"
   ]
  },
  {
   "cell_type": "markdown",
   "id": "02af0851",
   "metadata": {},
   "source": [
    "# strong password cheacker"
   ]
  },
  {
   "cell_type": "code",
   "execution_count": 13,
   "id": "5f6f0913",
   "metadata": {},
   "outputs": [
    {
     "name": "stdout",
     "output_type": "stream",
     "text": [
      "False\n",
      "True\n"
     ]
    }
   ],
   "source": [
    "\n",
    "\n",
    "def strong_pass(password):\n",
    "    if len(password) < 8:\n",
    "        return False\n",
    "    if not any (char.isdigit() for char in password):\n",
    "        return False\n",
    "    if not any (char.islower() for char in password):\n",
    "        return False\n",
    "    if not any (char.isupper() for char in password):\n",
    "        return False\n",
    "    if not any (char in \"!@#$%^&*()_+\" for char in password):\n",
    "        return False \n",
    "    return True\n",
    "\n",
    "\n",
    "\n",
    "print(strong_pass(\"WeakPswd\"))\n",
    "print(strong_pass(\"Str0ngp@ssword\"))"
   ]
  },
  {
   "cell_type": "markdown",
   "id": "d115993e",
   "metadata": {},
   "source": [
    "## billing the cart "
   ]
  },
  {
   "cell_type": "code",
   "execution_count": 14,
   "id": "dacada2f",
   "metadata": {},
   "outputs": [
    {
     "name": "stdout",
     "output_type": "stream",
     "text": [
      "520\n"
     ]
    }
   ],
   "source": [
    "\n",
    "\n",
    "def billing(cart):\n",
    "    total_cost  = 0\n",
    "    for items in cart :\n",
    "        total_cost += items[\"price\"] * items [\"quantity\"]\n",
    "    return total_cost\n",
    "\n",
    "cart = [\n",
    "    {\"name\" : \"apple\" , \"price\" : 200 , \"quantity\" : 1},\n",
    "    {\"name\" : \"banana\" , \"price\" : 60 , \"quantity\" : 2},\n",
    "    {\"name\" : \"papaya\" , \"price\" : 20 , \"quantity\" : 10}\n",
    "]\n",
    "\n",
    "total_bill = billing(cart)\n",
    "print(total_bill)"
   ]
  },
  {
   "cell_type": "markdown",
   "id": "061ef42b",
   "metadata": {},
   "source": [
    "## check if string is palindrome \n"
   ]
  },
  {
   "cell_type": "code",
   "execution_count": 15,
   "id": "94229230",
   "metadata": {},
   "outputs": [
    {
     "data": {
      "text/plain": [
       "True"
      ]
     },
     "execution_count": 15,
     "metadata": {},
     "output_type": "execute_result"
    }
   ],
   "source": [
    "def palindrome(s):\n",
    "    s = s.lower().replace(\" \" , \"\")\n",
    "    return s == s[::-1]\n",
    "\n",
    "\n",
    "palindrome(s=input(\"enter\"))"
   ]
  },
  {
   "cell_type": "markdown",
   "id": "0d452e35",
   "metadata": {},
   "source": [
    "## Calculate the factorial of number using recursion"
   ]
  },
  {
   "cell_type": "code",
   "execution_count": 18,
   "id": "2b086512",
   "metadata": {},
   "outputs": [
    {
     "name": "stdout",
     "output_type": "stream",
     "text": [
      "120\n"
     ]
    }
   ],
   "source": [
    "def factorial(f):\n",
    "    if f == 0:\n",
    "        return 1\n",
    "    else :\n",
    "        return f * factorial(f-1)\n",
    "\n",
    "print(factorial(f = int(input(\"enter the numbner\"))))"
   ]
  },
  {
   "cell_type": "markdown",
   "id": "2c413878",
   "metadata": {},
   "source": [
    "# Valid email check"
   ]
  },
  {
   "cell_type": "markdown",
   "id": "a6cc2922",
   "metadata": {},
   "source": [
    "#### In regular expressions (regex):\n",
    "\n",
    "* ^ → Start of the string\n",
    "\n",
    "* $ → End of the string\n",
    "\n"
   ]
  },
  {
   "cell_type": "code",
   "execution_count": 19,
   "id": "a96fcdd6",
   "metadata": {},
   "outputs": [
    {
     "name": "stdout",
     "output_type": "stream",
     "text": [
      "True\n",
      "False\n"
     ]
    }
   ],
   "source": [
    "import re \n",
    "\n",
    "def email_cheack(email):\n",
    "    patterns = r'^[a-zA-z0-9_.+-]+@[a-zA-z0-9-]+\\.[a-zA-z0-9-.]+$'\n",
    "    return re.match(patterns , email) is not None\n",
    "\n",
    "\n",
    "print(email_cheack(\"thisis@valid.com\"))\n",
    "print(email_cheack(\"invalid@email\"))"
   ]
  },
  {
   "cell_type": "code",
   "execution_count": null,
   "id": "a46ec0e3",
   "metadata": {},
   "outputs": [],
   "source": []
  },
  {
   "cell_type": "code",
   "execution_count": null,
   "id": "3662dea7",
   "metadata": {},
   "outputs": [],
   "source": []
  },
  {
   "cell_type": "code",
   "execution_count": null,
   "id": "dca3a146",
   "metadata": {},
   "outputs": [],
   "source": []
  }
 ],
 "metadata": {
  "kernelspec": {
   "display_name": "Python 3",
   "language": "python",
   "name": "python3"
  },
  "language_info": {
   "codemirror_mode": {
    "name": "ipython",
    "version": 3
   },
   "file_extension": ".py",
   "mimetype": "text/x-python",
   "name": "python",
   "nbconvert_exporter": "python",
   "pygments_lexer": "ipython3",
   "version": "3.12.11"
  }
 },
 "nbformat": 4,
 "nbformat_minor": 5
}
