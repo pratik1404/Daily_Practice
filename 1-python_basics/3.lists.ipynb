{
 "cells": [
  {
   "cell_type": "markdown",
   "id": "ed8b9f13",
   "metadata": {},
   "source": [
    "# Lists"
   ]
  },
  {
   "cell_type": "code",
   "execution_count": 1,
   "id": "3e0cdf12",
   "metadata": {},
   "outputs": [
    {
     "name": "stdout",
     "output_type": "stream",
     "text": [
      "<class 'list'>\n"
     ]
    }
   ],
   "source": [
    "lst = []\n",
    "print(type(lst))"
   ]
  },
  {
   "cell_type": "code",
   "execution_count": 85,
   "id": "e7bbe112",
   "metadata": {},
   "outputs": [
    {
     "name": "stdout",
     "output_type": "stream",
     "text": [
      "['Alice', 'Bob', 'Charlie', 1, 2, 3, 4, 5, 6, 7, 8, 9, 10]\n"
     ]
    }
   ],
   "source": [
    "names = ['Alice', 'Bob', 'Charlie',  1, 2, 3 ,4 ,5 , 6, 7, 8, 9, 10]\n",
    "print(names)"
   ]
  },
  {
   "cell_type": "code",
   "execution_count": 86,
   "id": "05e8df7a",
   "metadata": {},
   "outputs": [
    {
     "name": "stdout",
     "output_type": "stream",
     "text": [
      "10\n",
      "['Alice', 'Bob', 'Charlie', 1, 2, 3, 4, 5, 6, 7, 8, 9]\n"
     ]
    }
   ],
   "source": [
    "name_popped = names.pop()\n",
    "print(name_popped)\n",
    "print(names)"
   ]
  },
  {
   "cell_type": "code",
   "execution_count": 88,
   "id": "c4bf96ba",
   "metadata": {},
   "outputs": [],
   "source": [
    "## Accessing list elements \n",
    "fruits = [\"apples\" , \"bananas\", \"cherry\" , \"papaya\"]"
   ]
  },
  {
   "cell_type": "code",
   "execution_count": 89,
   "id": "3fb1de84",
   "metadata": {},
   "outputs": [
    {
     "name": "stdout",
     "output_type": "stream",
     "text": [
      "2\n"
     ]
    }
   ],
   "source": [
    "fruit_index = fruits.index(\"cherry\")\n",
    "print(fruit_index)"
   ]
  },
  {
   "cell_type": "code",
   "execution_count": 72,
   "id": "0f5c7229",
   "metadata": {},
   "outputs": [
    {
     "name": "stdout",
     "output_type": "stream",
     "text": [
      "apples\n",
      "bananas\n",
      "papaya\n",
      "cherry\n"
     ]
    }
   ],
   "source": [
    "print(fruits[0])  # Accessing the first element\n",
    "print(fruits[1])  # Accessing the second element   \n",
    "print(fruits[3])  # Accessing the third element\n",
    "print(fruits[-2])  # Accessing the last element"
   ]
  },
  {
   "cell_type": "code",
   "execution_count": 73,
   "id": "ba793adf",
   "metadata": {},
   "outputs": [
    {
     "name": "stdout",
     "output_type": "stream",
     "text": [
      "['papaya']\n",
      "['bananas', 'cherry', 'papaya']\n"
     ]
    }
   ],
   "source": [
    "print(fruits[-1:])\n",
    "print(fruits[1:])"
   ]
  },
  {
   "cell_type": "code",
   "execution_count": 74,
   "id": "338e80f0",
   "metadata": {},
   "outputs": [],
   "source": [
    "fruits[1] = \"watermelon\""
   ]
  },
  {
   "cell_type": "code",
   "execution_count": 75,
   "id": "e3c3ebf8",
   "metadata": {},
   "outputs": [
    {
     "name": "stdout",
     "output_type": "stream",
     "text": [
      "['apples', 'watermelon', 'cherry', 'papaya']\n"
     ]
    }
   ],
   "source": [
    "print(fruits)"
   ]
  },
  {
   "cell_type": "code",
   "execution_count": 76,
   "id": "440d9b9a",
   "metadata": {},
   "outputs": [],
   "source": [
    "fruits.append(\"kiwi\")"
   ]
  },
  {
   "cell_type": "code",
   "execution_count": 77,
   "id": "548111df",
   "metadata": {},
   "outputs": [
    {
     "data": {
      "text/plain": [
       "['apples', 'watermelon', 'cherry', 'papaya', 'kiwi']"
      ]
     },
     "execution_count": 77,
     "metadata": {},
     "output_type": "execute_result"
    }
   ],
   "source": [
    "fruits"
   ]
  },
  {
   "cell_type": "code",
   "execution_count": 78,
   "id": "a87c4a72",
   "metadata": {},
   "outputs": [
    {
     "data": {
      "text/plain": [
       "['apples', 'banana', 'watermelon', 'cherry', 'papaya', 'kiwi']"
      ]
     },
     "execution_count": 78,
     "metadata": {},
     "output_type": "execute_result"
    }
   ],
   "source": [
    "fruits.insert(1, \"banana\")\n",
    "fruits"
   ]
  },
  {
   "cell_type": "code",
   "execution_count": 79,
   "id": "dcd43e82",
   "metadata": {},
   "outputs": [
    {
     "data": {
      "text/plain": [
       "['apples', 'banana', 'watermelon', 'papaya', 'kiwi']"
      ]
     },
     "execution_count": 79,
     "metadata": {},
     "output_type": "execute_result"
    }
   ],
   "source": [
    "fruits.remove(\"cherry\")\n",
    "fruits"
   ]
  },
  {
   "cell_type": "code",
   "execution_count": 80,
   "id": "9beecfe7",
   "metadata": {},
   "outputs": [
    {
     "name": "stdout",
     "output_type": "stream",
     "text": [
      "kiwi\n"
     ]
    },
    {
     "data": {
      "text/plain": [
       "['apples', 'banana', 'watermelon', 'papaya']"
      ]
     },
     "execution_count": 80,
     "metadata": {},
     "output_type": "execute_result"
    }
   ],
   "source": [
    "## POP is used to remove last element from the list \n",
    "\n",
    "\n",
    "fruits.pop\n",
    "popped_fruits = fruits.pop()\n",
    "print(popped_fruits)  # Output: kiwi\n",
    "fruits"
   ]
  },
  {
   "cell_type": "code",
   "execution_count": 91,
   "id": "ffaa4322",
   "metadata": {},
   "outputs": [
    {
     "name": "stdout",
     "output_type": "stream",
     "text": [
      "2\n"
     ]
    }
   ],
   "source": [
    "lst = [9, 17, 3, 1, 1,99, 2, 3, 4, 55 , 6, 6, 7, 88, 13]\n",
    "\n",
    "counting = lst.count(1)\n",
    "print(counting)\n",
    "\n"
   ]
  },
  {
   "cell_type": "code",
   "execution_count": 93,
   "id": "073c3b09",
   "metadata": {},
   "outputs": [
    {
     "name": "stdout",
     "output_type": "stream",
     "text": [
      "[1, 1, 2, 3, 3, 4, 6, 6, 7, 9, 13, 17, 55, 88, 99]\n"
     ]
    }
   ],
   "source": [
    "lst.sort()\n",
    "print(lst)"
   ]
  },
  {
   "cell_type": "code",
   "execution_count": 96,
   "id": "41d9155d",
   "metadata": {},
   "outputs": [
    {
     "name": "stdout",
     "output_type": "stream",
     "text": [
      "[2, 3, 4, 5]\n",
      "[6, 7, 8, 9, 10]\n",
      "[1, 2, 3, 4, 5]\n",
      "[1, 3, 5, 7, 9]\n",
      "[10, 9, 8, 7, 6, 5, 4, 3, 2, 1]\n"
     ]
    }
   ],
   "source": [
    "numbers = [1, 2, 3, 4, 5, 6, 7, 8, 9, 10]\n",
    "\n",
    "print(numbers[1:5]) # Elements from index 1 to 4\n",
    "print(numbers[5:])  # Elements from index 5 to the end\n",
    "print(numbers[:5]) # First five elements\n",
    "print(numbers[::2]) # Every second element\n",
    "print(numbers[::-1]) # Reverse the list"
   ]
  },
  {
   "cell_type": "code",
   "execution_count": 99,
   "id": "35bdaef3",
   "metadata": {},
   "outputs": [
    {
     "name": "stdout",
     "output_type": "stream",
     "text": [
      "0 apples\n",
      "1 bananas\n",
      "2 cherry\n",
      "3 papaya\n"
     ]
    }
   ],
   "source": [
    "## iterating with index\n",
    "fruits = [\"apples\", \"bananas\", \"cherry\", \"papaya\"]\n",
    "\n",
    "for index, fruit in enumerate(fruits):\n",
    "    print(index , fruit)\n",
    "    "
   ]
  },
  {
   "cell_type": "code",
   "execution_count": 100,
   "id": "0d5a52a3",
   "metadata": {},
   "outputs": [
    {
     "name": "stdout",
     "output_type": "stream",
     "text": [
      "[1, 4, 9, 16, 25, 36, 49, 64, 81, 100]\n"
     ]
    }
   ],
   "source": [
    "## list comprehension\n",
    "\n",
    "\n",
    "lst = []\n",
    "\n",
    "for x in range(1, 11):\n",
    "    lst.append(x**2)\n",
    "\n",
    "print(lst)"
   ]
  },
  {
   "cell_type": "code",
   "execution_count": null,
   "id": "0b04fdd2",
   "metadata": {},
   "outputs": [
    {
     "data": {
      "text/plain": [
       "[1, 4, 9, 16, 25, 36, 49, 64, 81, 100]"
      ]
     },
     "execution_count": 101,
     "metadata": {},
     "output_type": "execute_result"
    }
   ],
   "source": [
    "## basic list comprehension \n",
    " \n",
    "[x**2 for x in range(1, 11)]"
   ]
  },
  {
   "cell_type": "code",
   "execution_count": 104,
   "id": "7c9a42e9",
   "metadata": {},
   "outputs": [
    {
     "data": {
      "text/plain": [
       "[2, 4, 6, 8, 10, 12, 14, 16, 18, 20]"
      ]
     },
     "execution_count": 104,
     "metadata": {},
     "output_type": "execute_result"
    }
   ],
   "source": [
    "## list comprehension with condition\n",
    "\n",
    "even_number = [num for num in range(1, 21) if num % 2 == 0]\n",
    "even_number"
   ]
  },
  {
   "cell_type": "code",
   "execution_count": 107,
   "id": "a3e347a8",
   "metadata": {},
   "outputs": [
    {
     "name": "stdout",
     "output_type": "stream",
     "text": [
      "[[1, 'a'], [1, 'b'], [1, 'c'], [1, 'd'], [2, 'a'], [2, 'b'], [2, 'c'], [2, 'd'], [3, 'a'], [3, 'b'], [3, 'c'], [3, 'd'], [4, 'a'], [4, 'b'], [4, 'c'], [4, 'd']]\n"
     ]
    }
   ],
   "source": [
    "#nested list comprehension\n",
    "\n",
    "lst1 = [1, 2, 3, 4]\n",
    "lst2 = [\"a\", \"b\" ,\"c\", \"d\"]\n",
    "\n",
    "pairs = [[i, j]for i in lst1 for j in lst2]\n",
    "\n",
    "print(pairs)"
   ]
  },
  {
   "cell_type": "code",
   "execution_count": 1,
   "id": "99ad7614",
   "metadata": {},
   "outputs": [],
   "source": [
    "## Nested Lists \n",
    "\n",
    "lst = [[1, 2, 3, 4] , [4,  5, 6, 7] , [1.14 , \"Hello\" , 3.14]]"
   ]
  },
  {
   "cell_type": "code",
   "execution_count": null,
   "id": "f56debd6",
   "metadata": {},
   "outputs": [
    {
     "data": {
      "text/plain": [
       "[4, 5, 6, 7]"
      ]
     },
     "execution_count": 5,
     "metadata": {},
     "output_type": "execute_result"
    }
   ],
   "source": [
    "lst[1] ## lists first index have first square braces items so it will show all elements of first index   "
   ]
  },
  {
   "cell_type": "code",
   "execution_count": 7,
   "id": "50a9176b",
   "metadata": {},
   "outputs": [
    {
     "data": {
      "text/plain": [
       "6"
      ]
     },
     "execution_count": 7,
     "metadata": {},
     "output_type": "execute_result"
    }
   ],
   "source": [
    "lst[1][2] # on first index it have 4 items and out of this on 2nd index's item will be displayed "
   ]
  },
  {
   "cell_type": "code",
   "execution_count": null,
   "id": "0efb5350",
   "metadata": {},
   "outputs": [],
   "source": []
  }
 ],
 "metadata": {
  "kernelspec": {
   "display_name": "Python 3",
   "language": "python",
   "name": "python3"
  },
  "language_info": {
   "codemirror_mode": {
    "name": "ipython",
    "version": 3
   },
   "file_extension": ".py",
   "mimetype": "text/x-python",
   "name": "python",
   "nbconvert_exporter": "python",
   "pygments_lexer": "ipython3",
   "version": "3.12.11"
  }
 },
 "nbformat": 4,
 "nbformat_minor": 5
}
