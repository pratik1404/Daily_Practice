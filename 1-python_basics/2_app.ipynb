{
 "cells": [
  {
   "cell_type": "code",
   "execution_count": 1,
   "id": "b927050c",
   "metadata": {},
   "outputs": [
    {
     "name": "stdout",
     "output_type": "stream",
     "text": [
      "pratik 21\n"
     ]
    }
   ],
   "source": [
    "name = \"pratik\"\n",
    "age = 21 \n",
    "\n",
    "print(name , age )"
   ]
  },
  {
   "cell_type": "code",
   "execution_count": 2,
   "id": "2da58028",
   "metadata": {},
   "outputs": [],
   "source": [
    "a=\"pratik\"\n",
    "height = 5.6\n",
    "address = \"kamgarnagar , Pimpri Chinchwad , Pune\""
   ]
  },
  {
   "cell_type": "code",
   "execution_count": 3,
   "id": "bff2900a",
   "metadata": {},
   "outputs": [
    {
     "data": {
      "text/plain": [
       "'pratik'"
      ]
     },
     "execution_count": 3,
     "metadata": {},
     "output_type": "execute_result"
    }
   ],
   "source": [
    "a "
   ]
  },
  {
   "cell_type": "code",
   "execution_count": 4,
   "id": "e680988f",
   "metadata": {},
   "outputs": [
    {
     "data": {
      "text/plain": [
       "5.6"
      ]
     },
     "execution_count": 4,
     "metadata": {},
     "output_type": "execute_result"
    }
   ],
   "source": [
    "height "
   ]
  },
  {
   "cell_type": "code",
   "execution_count": 5,
   "id": "e82f7dfe",
   "metadata": {},
   "outputs": [
    {
     "name": "stdout",
     "output_type": "stream",
     "text": [
      "name is pratik , hieght is 5.6 , address is kamgarnagar , Pimpri Chinchwad , Pune\n"
     ]
    }
   ],
   "source": [
    "print(f\"name is {a} , hieght is {height} , address is {address}\")"
   ]
  },
  {
   "cell_type": "code",
   "execution_count": 6,
   "id": "ff69bfe8",
   "metadata": {},
   "outputs": [
    {
     "name": "stdout",
     "output_type": "stream",
     "text": [
      "10 <class 'int'>\n",
      "Heyyy! <class 'str'>\n"
     ]
    }
   ],
   "source": [
    "v = 10 # v is an integer \n",
    "print(v , type(v))\n",
    "\n",
    "v = \"Heyyy!\"\n",
    "print(v, type(v)) # v is an string\n"
   ]
  },
  {
   "cell_type": "markdown",
   "id": "e7cc2777",
   "metadata": {},
   "source": [
    "# if , elif , else condition"
   ]
  },
  {
   "cell_type": "markdown",
   "id": "f9222b1b",
   "metadata": {},
   "source": [
    "# calculator"
   ]
  },
  {
   "cell_type": "markdown",
   "id": "4f3c80d3",
   "metadata": {},
   "source": []
  },
  {
   "cell_type": "code",
   "execution_count": null,
   "id": "6325cbf6",
   "metadata": {},
   "outputs": [
    {
     "name": "stdout",
     "output_type": "stream",
     "text": [
      "addition is 30\n"
     ]
    }
   ],
   "source": [
    "number1 = int(input(\"Enter the number:\"))\n",
    "\n",
    "number2 = int(input(\"Enter second number:\"))\n",
    "\n",
    "operation = input(\"addition , multiplication , division , substraction , select the operation you want to perform:\")\n",
    "\n",
    "\n",
    "if operation == \"addition\":\n",
    "    print(f\"addition is {number1 + number2}\")\n",
    "\n",
    "elif operation == \"multiplication\":\n",
    "    print(f\"multiplication is {number1 * number2}\")\n",
    "\n",
    "elif operation == \"division\":\n",
    "    print(f\"division is {number1 / number2}\")\n",
    "\n",
    "elif operation == \"substraction\":\n",
    "    print(f\"substraction is {number1 - number2}\")\n",
    "\n",
    "else:\n",
    "    print(\"Please select the correct operation\")"
   ]
  },
  {
   "cell_type": "code",
   "execution_count": 10,
   "id": "a3255dd9",
   "metadata": {},
   "outputs": [
    {
     "data": {
      "text/plain": [
       "False"
      ]
     },
     "execution_count": 10,
     "metadata": {},
     "output_type": "execute_result"
    }
   ],
   "source": [
    "str = \"Pratik\"\n",
    "\n",
    "str.isupper()"
   ]
  },
  {
   "cell_type": "code",
   "execution_count": 15,
   "id": "11127adb",
   "metadata": {},
   "outputs": [
    {
     "name": "stdout",
     "output_type": "stream",
     "text": [
      "year is not leap year\n"
     ]
    }
   ],
   "source": [
    "year = int(input(\"please enter the year:\"))\n",
    "\n",
    "if year % 4 == 0:\n",
    "    if year % 100 == 0 :\n",
    "        if year % 400  == 0:\n",
    "            print(f\"{year} is a leap year\")\n",
    "\n",
    "        else:\n",
    "            print(f\"{year} is not leap year\")\n",
    "\n",
    "    else:\n",
    "        print(f\"{year} is leap year\")\n",
    "else:       \n",
    "    print(\"year is not leap year\")\n",
    "    \n",
    "\n",
    "        "
   ]
  },
  {
   "cell_type": "markdown",
   "id": "3b290a3b",
   "metadata": {},
   "source": [
    "# For Loop"
   ]
  },
  {
   "cell_type": "code",
   "execution_count": 26,
   "metadata": {},
   "outputs": [
    {
     "name": "stdout",
     "output_type": "stream",
     "text": [
      "1\n",
      "2\n",
      "3\n",
      "4\n",
      "5\n",
      "6\n",
      "7\n",
      "8\n",
      "9\n",
      "10\n"
     ]
    }
   ],
   "source": [
    "for i in range(1, 11):\n",
    "    print(i)"
   ]
  },
  {
   "cell_type": "code",
   "execution_count": 36,
   "metadata": {},
   "outputs": [
    {
     "name": "stdout",
     "output_type": "stream",
     "text": [
      "10\n",
      "8\n",
      "6\n",
      "4\n",
      "2\n"
     ]
    }
   ],
   "source": [
    "for i in range (10, 1 , -2):\n",
    "    print(i)"
   ]
  },
  {
   "cell_type": "code",
   "execution_count": 34,
   "metadata": {},
   "outputs": [
    {
     "name": "stdout",
     "output_type": "stream",
     "text": [
      "10\n",
      "9\n",
      "8\n",
      "7\n",
      "6\n",
      "5\n",
      "4\n",
      "3\n",
      "2\n"
     ]
    }
   ],
   "source": [
    "for i in range(10,1, -1):\n",
    "    print(i)"
   ]
  },
  {
   "cell_type": "code",
   "execution_count": 40,
   "id": "a986fff9",
   "metadata": {},
   "outputs": [
    {
     "name": "stdout",
     "output_type": "stream",
     "text": [
      "P\n",
      "a\n",
      "r\n",
      "t\n",
      "i\n",
      "k\n",
      " \n",
      "P\n",
      "a\n",
      "t\n",
      "i\n",
      "l\n"
     ]
    }
   ],
   "source": [
    "str = \"Partik Patil\"\n",
    "for i in str:\n",
    "    print(i)"
   ]
  },
  {
   "cell_type": "code",
   "execution_count": 39,
   "metadata": {},
   "outputs": [
    {
     "name": "stdout",
     "output_type": "stream",
     "text": [
      "P r a t i k   P a t i l "
     ]
    }
   ],
   "source": [
    "str = \"Pratik Patil\"\n",
    "\n",
    "for i in str:\n",
    "    print(i , end = \" \")"
   ]
  },
  {
   "cell_type": "markdown",
   "id": "c4bde970",
   "metadata": {},
   "source": [
    "# While Loop"
   ]
  },
  {
   "cell_type": "code",
   "execution_count": 41,
   "metadata": {},
   "outputs": [
    {
     "name": "stdout",
     "output_type": "stream",
     "text": [
      "0\n",
      "1\n",
      "2\n",
      "3\n",
      "4\n",
      "5\n",
      "6\n",
      "7\n",
      "8\n",
      "9\n"
     ]
    }
   ],
   "source": [
    "count = 0 \n",
    "\n",
    "while count < 10 :\n",
    "    print(count)\n",
    "    count += 1 "
   ]
  },
  {
   "cell_type": "code",
   "execution_count": 42,
   "metadata": {},
   "outputs": [
    {
     "name": "stdout",
     "output_type": "stream",
     "text": [
      "0 1 2 3 4 5 6 7 8 9 "
     ]
    }
   ],
   "source": [
    "count = 0 \n",
    "while count < 10 :\n",
    "    print(count , end = \" \")\n",
    "    count += 1"
   ]
  },
  {
   "cell_type": "markdown",
   "id": "31800eb3",
   "metadata": {},
   "source": [
    "# Loop control statement "
   ]
  },
  {
   "cell_type": "code",
   "execution_count": null,
   "id": "7f163b2b",
   "metadata": {},
   "outputs": [
    {
     "name": "stdout",
     "output_type": "stream",
     "text": [
      "1\n",
      "2\n",
      "3\n",
      "4\n"
     ]
    }
   ],
   "source": [
    "# break statement \n",
    "'''The break statement is used to exit a loop prematurely.\n",
    "When the break statement is encountered, the loop is terminated immediately, and control is transferred to the statement following the loop.'''\n",
    "\n",
    "for i in range(1, 10):\n",
    "    if i == 5:\n",
    "        break\n",
    "    print(i)\n"
   ]
  },
  {
   "cell_type": "code",
   "execution_count": null,
   "id": "6e36c3bf",
   "metadata": {},
   "outputs": [
    {
     "name": "stdout",
     "output_type": "stream",
     "text": [
      "1\n",
      "3\n",
      "5\n",
      "7\n",
      "9\n"
     ]
    }
   ],
   "source": [
    "# continue statement\n",
    "'''The continue statement is used to skip the current iteration of a loop and move to the next iteration.\n",
    "When the continue statement is encountered, the remaining code in the loop for that iteration is skipped, and control jumps to the next iteration of the loop.'''\n",
    "\n",
    "for i in range (1, 10):\n",
    "    if i % 2 == 0 :\n",
    "        continue \n",
    "    print(i)"
   ]
  },
  {
   "cell_type": "code",
   "execution_count": 49,
   "id": "c60c0a4d",
   "metadata": {},
   "outputs": [
    {
     "name": "stdout",
     "output_type": "stream",
     "text": [
      "1\n",
      "2\n",
      "3\n",
      "4\n",
      "5\n",
      "6\n",
      "7\n",
      "8\n",
      "9\n"
     ]
    }
   ],
   "source": [
    "# pass statement\n",
    "'''The pass statement is a null operation; it does nothing when executed'''\n",
    "\n",
    "\n",
    "for i in range(1, 10):\n",
    "    if i == 3 :\n",
    "        pass # i have nothing to give in if statement so i am using pass statement\n",
    "\n",
    "    print(i)"
   ]
  },
  {
   "cell_type": "code",
   "execution_count": null,
   "id": "672638d0",
   "metadata": {},
   "outputs": [
    {
     "name": "stdout",
     "output_type": "stream",
     "text": [
      "i = 1 , j = 1\n",
      "i = 1 , j = 2\n",
      "i = 1 , j = 3\n",
      "i = 1 , j = 4\n",
      "i = 2 , j = 1\n",
      "i = 2 , j = 2\n",
      "i = 2 , j = 3\n",
      "i = 2 , j = 4\n",
      "i = 3 , j = 1\n",
      "i = 3 , j = 2\n",
      "i = 3 , j = 3\n",
      "i = 3 , j = 4\n",
      "i = 4 , j = 1\n",
      "i = 4 , j = 2\n",
      "i = 4 , j = 3\n",
      "i = 4 , j = 4\n"
     ]
    }
   ],
   "source": [
    "# nested loops \n",
    "''' Nested loops are loops inside another loop. The inner loop runs completely for each iteration of the outer loop.'''\n",
    "\n",
    "for i in range (1, 5):\n",
    "    for j in range(1, 5):\n",
    "        print(f\"i = {i} , j = {j}\")"
   ]
  },
  {
   "cell_type": "code",
   "execution_count": 53,
   "id": "ab2d2b96",
   "metadata": {},
   "outputs": [
    {
     "name": "stdout",
     "output_type": "stream",
     "text": [
      "55\n"
     ]
    }
   ],
   "source": [
    "n = 10\n",
    "sum = 0\n",
    "count = 1\n",
    "\n",
    "while count <= n :\n",
    "    sum = sum + count\n",
    "    count += 1\n",
    "\n",
    "print(sum) "
   ]
  },
  {
   "cell_type": "code",
   "execution_count": 55,
   "id": "f7081f6b",
   "metadata": {},
   "outputs": [
    {
     "name": "stdout",
     "output_type": "stream",
     "text": [
      "55\n"
     ]
    }
   ],
   "source": [
    "n = 10\n",
    "sum = 0\n",
    "\n",
    "for i in range (1, 11):\n",
    "    sum = sum + i\n",
    "\n",
    "print(sum)"
   ]
  },
  {
   "cell_type": "code",
   "execution_count": 61,
   "id": "bacfc7e5",
   "metadata": {},
   "outputs": [
    {
     "name": "stdout",
     "output_type": "stream",
     "text": [
      "2 is a prime number\n",
      "3 is a prime number\n",
      "5 is a prime number\n",
      "7 is a prime number\n",
      "11 is a prime number\n",
      "13 is a prime number\n",
      "17 is a prime number\n",
      "19 is a prime number\n",
      "23 is a prime number\n",
      "29 is a prime number\n",
      "31 is a prime number\n",
      "37 is a prime number\n",
      "41 is a prime number\n",
      "43 is a prime number\n",
      "47 is a prime number\n",
      "53 is a prime number\n",
      "59 is a prime number\n",
      "61 is a prime number\n",
      "67 is a prime number\n",
      "71 is a prime number\n",
      "73 is a prime number\n",
      "79 is a prime number\n",
      "83 is a prime number\n",
      "89 is a prime number\n",
      "97 is a prime number\n"
     ]
    }
   ],
   "source": [
    "for num in range(1, 101):\n",
    "    if num > 1:\n",
    "        for i in range(2, num):\n",
    "            if num % i == 0:\n",
    "                break\n",
    "\n",
    "        else:\n",
    "            print(num, \"is a prime number\")"
   ]
  },
  {
   "cell_type": "code",
   "execution_count": 68,
   "id": "c0e56bf3",
   "metadata": {},
   "outputs": [
    {
     "name": "stdout",
     "output_type": "stream",
     "text": [
      "7 is prime number\n"
     ]
    }
   ],
   "source": [
    "num = int(input(\"Enter the number : \"))\n",
    "\n",
    "if num < 1 :\n",
    "    print(\"Please enter a positive number\")\n",
    "\n",
    "else:\n",
    "    for i in range (2, num):\n",
    "        if num % i == 0:\n",
    "            break\n",
    "    else:\n",
    "        print(f\"{num} is prime number\")\n",
    "            "
   ]
  }
 ],
 "metadata": {
  "kernelspec": {
   "display_name": "Python 3",
   "language": "python",
   "name": "python3"
  },
  "language_info": {
   "codemirror_mode": {
    "name": "ipython",
    "version": 3
   },
   "file_extension": ".py",
   "mimetype": "text/x-python",
   "name": "python",
   "nbconvert_exporter": "python",
   "pygments_lexer": "ipython3",
   "version": "3.12.11"
  }
 },
 "nbformat": 4,
 "nbformat_minor": 5
}
