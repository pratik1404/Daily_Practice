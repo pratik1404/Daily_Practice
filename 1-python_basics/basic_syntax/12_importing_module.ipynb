{
 "cells": [
  {
   "cell_type": "markdown",
   "id": "1e063a73",
   "metadata": {},
   "source": [
    "### Importing modules in python : Modules and packages \n",
    "\n",
    "#### In python , modules and packages help oraginze and reuse code. Here's a comprehensive guide on how to import them "
   ]
  },
  {
   "cell_type": "code",
   "execution_count": 15,
   "id": "485ccfdf",
   "metadata": {},
   "outputs": [
    {
     "name": "stdout",
     "output_type": "stream",
     "text": [
      "4.0\n"
     ]
    }
   ],
   "source": [
    "from math import *\n",
    "\n",
    "print(sqrt(16))"
   ]
  },
  {
   "cell_type": "code",
   "execution_count": 16,
   "id": "407bb30a",
   "metadata": {},
   "outputs": [
    {
     "name": "stdout",
     "output_type": "stream",
     "text": [
      "\n",
      "We are gonna add more in out data.\n",
      "Ok the data is being added\n",
      "Hello ! Hello\n"
     ]
    }
   ],
   "source": [
    "with open(\"refrence.txt\" , \"r\" ) as file :\n",
    "    for line in file :\n",
    "        print(line.strip())"
   ]
  },
  {
   "cell_type": "code",
   "execution_count": 30,
   "id": "caf77d99",
   "metadata": {},
   "outputs": [
    {
     "name": "stdout",
     "output_type": "stream",
     "text": [
      "Heyy let's we write the file and see what happens\n",
      "And this is second line.\n",
      "Is it running or not ?\n"
     ]
    }
   ],
   "source": [
    "with open(\"refrence.txt\", 'w+' ) as file1:\n",
    "    file1.write(\"Heyy let's we write the file and see what happens \\n And this is second line. \\n Is it running or not ?\")\n",
    "    file1.seek(0)   ## Move cursor back to beginning before reading\n",
    "    for line in file1 :\n",
    "        print(line.strip())"
   ]
  },
  {
   "cell_type": "code",
   "execution_count": 31,
   "id": "10746a7b",
   "metadata": {},
   "outputs": [],
   "source": [
    "lines = [ \"\\n This is line 1 \\n This is line 2 \\n This is line 3 \"]\n",
    "\n",
    "\n",
    "with open(\"refrence.txt\" , \"a\") as file :\n",
    "    file.writelines(lines)\n",
    "    file.seek(0)\n",
    "    "
   ]
  },
  {
   "cell_type": "code",
   "execution_count": 32,
   "id": "d62db466",
   "metadata": {},
   "outputs": [],
   "source": [
    "## Read the content from source text file andwrite to a destination text file ]\n",
    "\n",
    "with open(\"refrence.txt\" , \"r\") as source_file :\n",
    "    content = source_file.read()\n",
    "\n",
    "with open(\"destination_file.txt\", \"w\") as destination_file :\n",
    "    content = destination_file.write(content)"
   ]
  },
  {
   "cell_type": "code",
   "execution_count": 33,
   "id": "47969573",
   "metadata": {},
   "outputs": [
    {
     "name": "stdout",
     "output_type": "stream",
     "text": [
      "Line count is 6 , word count is 33 , characters count are 152 \n"
     ]
    }
   ],
   "source": [
    "def count_text_file(file_path):\n",
    "    with open(file_path , \"r\") as file:\n",
    "        lines = file.readlines()\n",
    "        line_count = len(lines)\n",
    "        words_count = sum(len(line.split()) for line in lines)\n",
    "        char_count = sum(len(line) for line in lines)\n",
    "    \n",
    "    return line_count , words_count , char_count \n",
    "\n",
    "file_path = \"refrence.txt\"\n",
    "lines , words , characters = count_text_file(file_path)\n",
    "print(f\"Line count is {lines} , word count is {words} , characters count are {characters} \")"
   ]
  },
  {
   "cell_type": "code",
   "execution_count": 34,
   "id": "be76dbf4",
   "metadata": {},
   "outputs": [
    {
     "name": "stdout",
     "output_type": "stream",
     "text": [
      "no of lines 6 , words are 33 , characters are 152\n"
     ]
    }
   ],
   "source": [
    "def count_values(file_path):\n",
    "    with open(file_path , \"r\") as file:\n",
    "        lines = file.readlines()\n",
    "        line_counts = len(lines)\n",
    "        word_counts = sum(len(line.split()) for line in lines)\n",
    "        char_counts = sum(len(line) for line in lines)\n",
    "\n",
    "    return line_counts , word_counts , char_counts \n",
    "\n",
    "file_path = \"refrence.txt\"\n",
    "lines , words , characters = count_values(file_path)\n",
    "print(f\"no of lines {lines} , words are {words} , characters are {characters}\")"
   ]
  },
  {
   "cell_type": "markdown",
   "id": "f556be19",
   "metadata": {},
   "source": [
    "### The w+ mode in pyhton is used for both reading and writing the file \n",
    "\n",
    "* if the file does not exist then the file will be cretaed and if file already exist then file is overwritten i.e file is being truncated"
   ]
  },
  {
   "cell_type": "code",
   "execution_count": 42,
   "id": "26d38607",
   "metadata": {},
   "outputs": [
    {
     "name": "stdout",
     "output_type": "stream",
     "text": [
      "\n",
      "We are gonna add more in out data.\n",
      "Ok the data is being added\n",
      "Hello ! Hello\n"
     ]
    }
   ],
   "source": [
    "lines = \"\\nWe are gonna add more in out data.\\nOk the data is being added\"\n",
    "\n",
    "with open(\"refrence.txt\" , \"w+\") as file :\n",
    "    file.write(lines)\n",
    "    file.write(\"\\nHello ! Hello\")\n",
    "    \n",
    "    file.seek(0)   # This brings coursor to its 0th index that is in beginning \n",
    "    # for line in file:\n",
    "    #     print(line.strip())\n",
    "    \n",
    "    content = file.read()\n",
    "    print(content)\n"
   ]
  },
  {
   "cell_type": "code",
   "execution_count": 36,
   "id": "f6440052",
   "metadata": {},
   "outputs": [
    {
     "data": {
      "text/plain": [
       "152"
      ]
     },
     "execution_count": 36,
     "metadata": {},
     "output_type": "execute_result"
    }
   ],
   "source": [
    "content"
   ]
  },
  {
   "cell_type": "code",
   "execution_count": null,
   "id": "56c0d569",
   "metadata": {},
   "outputs": [],
   "source": []
  }
 ],
 "metadata": {
  "kernelspec": {
   "display_name": "Python 3",
   "language": "python",
   "name": "python3"
  },
  "language_info": {
   "codemirror_mode": {
    "name": "ipython",
    "version": 3
   },
   "file_extension": ".py",
   "mimetype": "text/x-python",
   "name": "python",
   "nbconvert_exporter": "python",
   "pygments_lexer": "ipython3",
   "version": "3.12.11"
  }
 },
 "nbformat": 4,
 "nbformat_minor": 5
}
