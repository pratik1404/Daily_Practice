{
 "cells": [
  {
   "cell_type": "markdown",
   "id": "6c658f37",
   "metadata": {},
   "source": [
    "#### NumPy (Numerical Python) is a Python library used to do fast mathematical and scientific calculations."
   ]
  },
  {
   "cell_type": "code",
   "execution_count": 4,
   "id": "b3bfc28e",
   "metadata": {},
   "outputs": [
    {
     "name": "stdout",
     "output_type": "stream",
     "text": [
      "Requirement already satisfied: numpy in d:\\python\\venv\\lib\\site-packages (2.3.1)\n",
      "Note: you may need to restart the kernel to use updated packages.\n"
     ]
    }
   ],
   "source": [
    "%pip install numpy\n"
   ]
  },
  {
   "cell_type": "code",
   "execution_count": 87,
   "id": "779dcc7a",
   "metadata": {},
   "outputs": [
    {
     "name": "stdout",
     "output_type": "stream",
     "text": [
      "[1 2 3 4 5 6 7 8 9]\n"
     ]
    }
   ],
   "source": [
    "import numpy as np \n",
    "\n",
    "arr = np.array([1, 2, 3, 4, 5, 6, 7, 8, 9])\n",
    "print(arr)"
   ]
  },
  {
   "cell_type": "code",
   "execution_count": 88,
   "id": "95260c55",
   "metadata": {},
   "outputs": [
    {
     "name": "stdout",
     "output_type": "stream",
     "text": [
      "[9 8 7 6 5 4 3 2 1]\n"
     ]
    }
   ],
   "source": [
    "print(arr[::-1])"
   ]
  },
  {
   "cell_type": "code",
   "execution_count": 89,
   "id": "a0004e50",
   "metadata": {},
   "outputs": [
    {
     "name": "stdout",
     "output_type": "stream",
     "text": [
      "[1 2 3 4 5]\n",
      "<class 'numpy.ndarray'>\n",
      "(5,)\n"
     ]
    }
   ],
   "source": [
    "## create a 1-D array \n",
    "\n",
    "import numpy as np\n",
    "\n",
    "arr1 = np.array([1, 2, 3, 4, 5])\n",
    "print(arr1)\n",
    "print(type(arr1))\n",
    "print(arr1.shape)"
   ]
  },
  {
   "cell_type": "code",
   "execution_count": 90,
   "id": "d8dd85ce",
   "metadata": {},
   "outputs": [
    {
     "data": {
      "text/plain": [
       "array([[1, 2, 3, 4, 5, 6]])"
      ]
     },
     "execution_count": 90,
     "metadata": {},
     "output_type": "execute_result"
    }
   ],
   "source": [
    "# 1-D array\n",
    "\n",
    "arr2 = np.array([1, 2, 3 ,4, 5, 6])\n",
    "arr2.reshape(1,6)"
   ]
  },
  {
   "cell_type": "code",
   "execution_count": 91,
   "id": "1e08dedb",
   "metadata": {},
   "outputs": [
    {
     "name": "stdout",
     "output_type": "stream",
     "text": [
      "<class 'numpy.ndarray'>\n",
      "(2, 4)\n"
     ]
    }
   ],
   "source": [
    "# 2-D array\n",
    "\n",
    "arr3 = np.array([[1, 2, 3, 4],[6, 7, 8, 9]])\n",
    "print(type(arr3))\n",
    "print(arr3.shape)"
   ]
  },
  {
   "cell_type": "code",
   "execution_count": 92,
   "id": "fd99cc60",
   "metadata": {},
   "outputs": [
    {
     "data": {
      "text/plain": [
       "array([1, 3, 5, 7, 9])"
      ]
     },
     "execution_count": 92,
     "metadata": {},
     "output_type": "execute_result"
    }
   ],
   "source": [
    "np.arange(1, 10 , 2)"
   ]
  },
  {
   "cell_type": "code",
   "execution_count": 93,
   "id": "a93e3dde",
   "metadata": {},
   "outputs": [
    {
     "data": {
      "text/plain": [
       "array([[1],\n",
       "       [3],\n",
       "       [5],\n",
       "       [7],\n",
       "       [9]])"
      ]
     },
     "execution_count": 93,
     "metadata": {},
     "output_type": "execute_result"
    }
   ],
   "source": [
    "np.arange(1, 10 , 2).reshape(5, 1)"
   ]
  },
  {
   "cell_type": "code",
   "execution_count": 94,
   "id": "0fd84345",
   "metadata": {},
   "outputs": [
    {
     "data": {
      "text/plain": [
       "array([[1., 1., 1., 1.],\n",
       "       [1., 1., 1., 1.],\n",
       "       [1., 1., 1., 1.],\n",
       "       [1., 1., 1., 1.]])"
      ]
     },
     "execution_count": 94,
     "metadata": {},
     "output_type": "execute_result"
    }
   ],
   "source": [
    "np.ones((4, 4))"
   ]
  },
  {
   "cell_type": "code",
   "execution_count": 95,
   "id": "7637e1de",
   "metadata": {},
   "outputs": [
    {
     "data": {
      "text/plain": [
       "array([[1., 0., 0.],\n",
       "       [0., 1., 0.],\n",
       "       [0., 0., 1.]])"
      ]
     },
     "execution_count": 95,
     "metadata": {},
     "output_type": "execute_result"
    }
   ],
   "source": [
    "np.eye(3)"
   ]
  },
  {
   "cell_type": "code",
   "execution_count": 96,
   "id": "e3bf89e1",
   "metadata": {},
   "outputs": [
    {
     "name": "stdout",
     "output_type": "stream",
     "text": [
      "Array :-\n",
      " [[1 2 3 4 5]\n",
      " [5 6 7 8 9]]\n",
      "\n",
      "Array size is: 10\n",
      "Array dimentions is: 2\n",
      "Array type is: int64\n",
      "item size (in byte) is: 8\n"
     ]
    }
   ],
   "source": [
    "import numpy as np\n",
    "arr5 = np.array([[1, 2, 3, 4, 5],[5, 6, 7, 8, 9]])\n",
    "print(f\"Array :-\\n {arr5}\")\n",
    "print()\n",
    "print(f\"Array size is: {arr5.size}\" )\n",
    "print(f\"Array dimentions is: {arr5.ndim}\")\n",
    "print(f\"Array type is: {arr5.dtype}\")\n",
    "print(f\"item size (in byte) is: {arr.itemsize}\")"
   ]
  },
  {
   "cell_type": "code",
   "execution_count": 97,
   "id": "0bb1832b",
   "metadata": {},
   "outputs": [
    {
     "name": "stdout",
     "output_type": "stream",
     "text": [
      "Addition of array : [13 25 37 49 61]\n",
      "Substraction of array is : [-11 -21 -31 -41 -51]\n",
      "multiplication of array is : [ 12  46 102 180 280]\n",
      "division of array is : [0.08333333 0.08695652 0.08823529 0.08888889 0.08928571]\n"
     ]
    }
   ],
   "source": [
    "# attribute wise operations in array\n",
    "\n",
    "arr6 = np.array([1, 2, 3, 4, 5])\n",
    "arr7 = np.array([12, 23, 34 ,45, 56])\n",
    "\n",
    "print(f\"Addition of array : {arr6+arr7}\")\n",
    "print(f\"Substraction of array is : {arr6-arr7}\")\n",
    "print(f\"multiplication of array is : {arr6*arr7}\")\n",
    "print(f\"division of array is : {arr6/arr7}\")"
   ]
  },
  {
   "cell_type": "code",
   "execution_count": 98,
   "id": "d40fb74a",
   "metadata": {},
   "outputs": [
    {
     "name": "stdout",
     "output_type": "stream",
     "text": [
      "[1.         1.41421356 1.73205081 2.         2.23606798 2.44948974]\n",
      "[  2.71828183   7.3890561   20.08553692  54.59815003 148.4131591\n",
      " 403.42879349]\n",
      "[ 0.84147098  0.90929743  0.14112001 -0.7568025  -0.95892427 -0.2794155 ]\n",
      "[ 0.54030231 -0.41614684 -0.9899925  -0.65364362  0.28366219  0.96017029]\n",
      "[ 1.55740772 -2.18503986 -0.14254654  1.15782128 -3.38051501 -0.29100619]\n",
      "[0.         0.69314718 1.09861229 1.38629436 1.60943791 1.79175947]\n"
     ]
    }
   ],
   "source": [
    "# universal operations in array\n",
    "\n",
    "\n",
    "arr8 = np.array([1, 2, 3, 4, 5, 6])\n",
    "print(np.sqrt(arr8))\n",
    "\n",
    "print(np.exp(arr8))\n",
    "\n",
    "print(np.sin(arr8))\n",
    "\n",
    "print(np.cos(arr8))\n",
    "\n",
    "print(np.tan(arr8))\n",
    "\n",
    "print(np.log(arr8))\n"
   ]
  },
  {
   "cell_type": "code",
   "execution_count": 99,
   "id": "aab360f1",
   "metadata": {},
   "outputs": [],
   "source": [
    "arr9 = np.array([[1, 2, 3, 4],[5, 6, 7, 8],[9, 10, 11, 12]])\n"
   ]
  },
  {
   "cell_type": "code",
   "execution_count": 100,
   "id": "e44ea6d0",
   "metadata": {},
   "outputs": [
    {
     "data": {
      "text/plain": [
       "array([[ 1,  2,  3,  4],\n",
       "       [ 5,  6,  7,  8],\n",
       "       [ 9, 10, 11, 12]])"
      ]
     },
     "execution_count": 100,
     "metadata": {},
     "output_type": "execute_result"
    }
   ],
   "source": [
    "arr9"
   ]
  },
  {
   "cell_type": "code",
   "execution_count": 101,
   "id": "6498ee38",
   "metadata": {},
   "outputs": [
    {
     "name": "stdout",
     "output_type": "stream",
     "text": [
      "4\n"
     ]
    }
   ],
   "source": [
    "print(arr9[0][3])"
   ]
  },
  {
   "cell_type": "code",
   "execution_count": 102,
   "id": "174b2782",
   "metadata": {},
   "outputs": [
    {
     "name": "stdout",
     "output_type": "stream",
     "text": [
      "[[ 1  2  3  4]\n",
      " [ 5  6  7  8]\n",
      " [ 9 10 11 12]]\n"
     ]
    }
   ],
   "source": [
    "print(arr9[0:])"
   ]
  },
  {
   "cell_type": "code",
   "execution_count": 103,
   "id": "d46004c6",
   "metadata": {},
   "outputs": [
    {
     "name": "stdout",
     "output_type": "stream",
     "text": [
      "[[ 7  8]\n",
      " [11 12]]\n"
     ]
    }
   ],
   "source": [
    "print(arr9[1:, 2:])"
   ]
  },
  {
   "cell_type": "code",
   "execution_count": 104,
   "id": "16a958bc",
   "metadata": {},
   "outputs": [
    {
     "name": "stdout",
     "output_type": "stream",
     "text": [
      "[[2 3 4]\n",
      " [6 7 8]]\n"
     ]
    }
   ],
   "source": [
    "print(arr9[0:2,1:])"
   ]
  },
  {
   "cell_type": "code",
   "execution_count": 105,
   "id": "1916a4d6",
   "metadata": {},
   "outputs": [
    {
     "name": "stdout",
     "output_type": "stream",
     "text": [
      "[[ 6  7]\n",
      " [10 11]]\n"
     ]
    }
   ],
   "source": [
    "print(arr9[1: , 1:3])"
   ]
  },
  {
   "cell_type": "code",
   "execution_count": 107,
   "id": "409a976c",
   "metadata": {},
   "outputs": [
    {
     "name": "stdout",
     "output_type": "stream",
     "text": [
      "[[100   2   3   4]\n",
      " [  5   6   7   8]\n",
      " [  9  10  11  12]]\n"
     ]
    }
   ],
   "source": [
    "## modify the array \n",
    "\n",
    "\n",
    "arr9[0, 0] = 100\n",
    "print(arr9)"
   ]
  },
  {
   "cell_type": "code",
   "execution_count": 109,
   "id": "987e3b90",
   "metadata": {},
   "outputs": [
    {
     "name": "stdout",
     "output_type": "stream",
     "text": [
      "mean is 3.0\n",
      "standard deviation is :- 1.4142135623730951\n",
      "normalization data :-[-1.41421356 -0.70710678  0.          0.70710678  1.41421356]\n"
     ]
    }
   ],
   "source": [
    "## Stastical concept -- Normalization \n",
    "## to have mean of 0 and std deviation of 1 \n",
    "\n",
    "data = np.array([1, 2, 3, 4, 5])\n",
    "\n",
    "mean = np.mean(data)\n",
    "print(f\"mean is {mean}\")\n",
    "\n",
    "std_dev = np.std(data)\n",
    "print(f\"standard deviation is :- {std_dev}\")\n",
    "\n",
    "normalization = (data-mean) / std_dev\n",
    "print(f\"normalization data :-{normalization}\")"
   ]
  },
  {
   "cell_type": "code",
   "execution_count": 111,
   "id": "1743dd70",
   "metadata": {},
   "outputs": [
    {
     "name": "stdout",
     "output_type": "stream",
     "text": [
      "mean is 3.0\n",
      "standard deviation is :- 1.4142135623730951\n",
      "median is :- 1.4142135623730951\n",
      "variance is 2.0\n"
     ]
    }
   ],
   "source": [
    "## Stastical concept -- Normalization \n",
    "## to have mean of 0 and std deviation of 1 \n",
    "\n",
    "data = np.array([1, 2, 3, 4, 5])\n",
    "\n",
    "mean = np.mean(data)\n",
    "print(f\"mean is {mean}\")\n",
    "\n",
    "std_dev = np.std(data)\n",
    "print(f\"standard deviation is :- {std_dev}\")\n",
    "\n",
    "median = np.median(data)\n",
    "print(f\"median is :- {std_dev}\")\n",
    "\n",
    "variance = np.var(data)\n",
    "print(f\"variance is {variance}\")\n",
    "\n"
   ]
  },
  {
   "cell_type": "code",
   "execution_count": 112,
   "id": "ab0d35d6",
   "metadata": {},
   "outputs": [
    {
     "data": {
      "text/plain": [
       "array([False, False, False, False, False,  True,  True,  True,  True,\n",
       "        True])"
      ]
     },
     "execution_count": 112,
     "metadata": {},
     "output_type": "execute_result"
    }
   ],
   "source": [
    "data = np.array([1, 2, 3, 4, 5, 6, 7, 8, 9, 10])\n",
    "\n",
    "data>5"
   ]
  },
  {
   "cell_type": "code",
   "execution_count": 113,
   "id": "a12d21d3",
   "metadata": {},
   "outputs": [
    {
     "data": {
      "text/plain": [
       "array([ 6,  7,  8,  9, 10])"
      ]
     },
     "execution_count": 113,
     "metadata": {},
     "output_type": "execute_result"
    }
   ],
   "source": [
    "data[data>5]"
   ]
  },
  {
   "cell_type": "code",
   "execution_count": 114,
   "id": "aab6e627",
   "metadata": {},
   "outputs": [
    {
     "data": {
      "text/plain": [
       "array([5, 6, 7, 8])"
      ]
     },
     "execution_count": 114,
     "metadata": {},
     "output_type": "execute_result"
    }
   ],
   "source": [
    "data[(data>=5)&(data<=8)]"
   ]
  },
  {
   "cell_type": "code",
   "execution_count": null,
   "id": "88ee76d3",
   "metadata": {},
   "outputs": [],
   "source": []
  }
 ],
 "metadata": {
  "kernelspec": {
   "display_name": "Python 3",
   "language": "python",
   "name": "python3"
  },
  "language_info": {
   "codemirror_mode": {
    "name": "ipython",
    "version": 3
   },
   "file_extension": ".py",
   "mimetype": "text/x-python",
   "name": "python",
   "nbconvert_exporter": "python",
   "pygments_lexer": "ipython3",
   "version": "3.12.11"
  }
 },
 "nbformat": 4,
 "nbformat_minor": 5
}
