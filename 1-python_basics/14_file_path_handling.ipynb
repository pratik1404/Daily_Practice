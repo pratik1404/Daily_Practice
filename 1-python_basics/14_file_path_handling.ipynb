{
 "cells": [
  {
   "cell_type": "code",
   "execution_count": 3,
   "id": "550b37c6",
   "metadata": {},
   "outputs": [
    {
     "name": "stdout",
     "output_type": "stream",
     "text": [
      "Directory Folder1 is created \n"
     ]
    }
   ],
   "source": [
    "## create new directory \n",
    "\n",
    "import os \n",
    "new_dir = \"Folder1\"\n",
    "os.mkdir(new_dir)\n",
    "\n",
    "print(f\"Directory {new_dir} is created \")"
   ]
  },
  {
   "cell_type": "code",
   "execution_count": 4,
   "id": "1de7fc84",
   "metadata": {},
   "outputs": [
    {
     "name": "stdout",
     "output_type": "stream",
     "text": [
      "['10_map_function.ipynb', '11_filter.ipynb', '14_file_path_handling.ipynb', '1_test.ipynb', '2_app.ipynb', '3.lists.ipynb', '4_tuples.ipynb', '5_sets.ipynb', '6_dictionaries.ipynb', '7_list_real_life_example.ipynb', '8_functions.ipynb', '9_lambda_function.ipynb', 'app.py', 'basic_syntax']\n"
     ]
    }
   ],
   "source": [
    "## Listing all Files and directories \n",
    "\n",
    "items = os.listdir(\".\")\n",
    "print(items)"
   ]
  },
  {
   "cell_type": "code",
   "execution_count": 5,
   "id": "ab6bd38b",
   "metadata": {},
   "outputs": [
    {
     "name": "stdout",
     "output_type": "stream",
     "text": [
      "d:\\python\\1-python_basics\\folder\\file.txt\n"
     ]
    }
   ],
   "source": [
    "#joining two paths]\n",
    "\n",
    "dir_name = \"folder\"\n",
    "file_name = \"file.txt\"\n",
    "\n",
    "full_path = os.path.join(os.getcwd(), dir_name, file_name)\n",
    "print(full_path)"
   ]
  },
  {
   "cell_type": "markdown",
   "id": "69a30cc0",
   "metadata": {},
   "source": []
  },
  {
   "cell_type": "code",
   "execution_count": null,
   "id": "27a359cc",
   "metadata": {},
   "outputs": [],
   "source": []
  }
 ],
 "metadata": {
  "kernelspec": {
   "display_name": "Python 3",
   "language": "python",
   "name": "python3"
  },
  "language_info": {
   "codemirror_mode": {
    "name": "ipython",
    "version": 3
   },
   "file_extension": ".py",
   "mimetype": "text/x-python",
   "name": "python",
   "nbconvert_exporter": "python",
   "pygments_lexer": "ipython3",
   "version": "3.12.11"
  }
 },
 "nbformat": 4,
 "nbformat_minor": 5
}
