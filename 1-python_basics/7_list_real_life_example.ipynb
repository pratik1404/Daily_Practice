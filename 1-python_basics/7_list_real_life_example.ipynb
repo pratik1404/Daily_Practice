{
 "cells": [
  {
   "cell_type": "markdown",
   "id": "651cad55",
   "metadata": {},
   "source": [
    "## Real life examples of using a list "
   ]
  },
  {
   "cell_type": "markdown",
   "id": "52e48853",
   "metadata": {},
   "source": [
    "### Example 1 : manage a to do list\n",
    "\n",
    "* create a to do list to keep track of task"
   ]
  },
  {
   "cell_type": "code",
   "execution_count": null,
   "id": "8aaac6b7",
   "metadata": {},
   "outputs": [],
   "source": [
    "to_do_list = [\"Pay bills\" , \"clean house\" , \"wash clothes\" , \"go fro running\"]\n",
    "\n",
    "to_do_list.append(\"Do coding\")\n",
    "to_do_list.append(\"charge laptop\")\n",
    "\n",
    "to_do_list.remove(\"wash clothes\")\n",
    "\n",
    "if \"Do coding\" in to_do_list:\n",
    "    print(\"Dont forget the goal . Do Coding\")\n",
    "\n",
    "for tasks in to_do_list:\n",
    "    print(f\"-{tasks}\")"
   ]
  },
  {
   "cell_type": "markdown",
   "id": "dfe3ffae",
   "metadata": {},
   "source": [
    "## organising student grades\n",
    "\n",
    "* create a list to store and calculate average grades for student "
   ]
  },
  {
   "cell_type": "code",
   "execution_count": null,
   "id": "bb8a7a15",
   "metadata": {},
   "outputs": [],
   "source": [
    "grades = [88, 98, 95, 77, 92]\n",
    "\n",
    "grades.append(95)\n",
    "\n",
    "average_marks = sum(grades) / len(grades)\n",
    "\n",
    "print(f\"Average marks obtained are {average_marks:.2f}\")   # :.2f is used show number to decimals after decimal point\n",
    "\n",
    "\n",
    "highest_marks = max(grades)\n",
    "lowest_marks = min(grades)\n",
    "\n",
    "print(f\"Highest marks obtained are : {highest_marks} \\nLowest Marks obtained are: {lowest_marks} \")"
   ]
  },
  {
   "cell_type": "markdown",
   "id": "ef1d7e5e",
   "metadata": {},
   "source": [
    "# managing a inventory of store "
   ]
  },
  {
   "cell_type": "code",
   "execution_count": 18,
   "id": "9f7b0e40",
   "metadata": {},
   "outputs": [
    {
     "name": "stdout",
     "output_type": "stream",
     "text": [
      "banana is in stock\n"
     ]
    }
   ],
   "source": [
    "fruits = [\"apple\" , \"banana\" , \"cherry\" , \"papaya\" , \"watermelon\" , \"melon\" , \"pineapple\" , \"orange\"]\n",
    "\n",
    "\n",
    "search = True\n",
    "\n",
    "while search:\n",
    "\n",
    "    item = str(input(\"Enter fruit name to search stock\"))\n",
    "\n",
    "    if item in fruits :\n",
    "        print(f\"{item} is in stock\")\n",
    "    else :\n",
    "        print(f\"{item} is out of stock\")\n",
    "\n",
    "    continue_search = str(input(\"Want to continue searching ? yes / no \" )).lower()\n",
    "    if continue_search == \"yes\" or continue_search == \"y\" :\n",
    "        search = True\n",
    "\n",
    "    elif continue_search == \"no\" or continue_search == \"n\" :\n",
    "        search = False\n",
    "\n",
    "    elif continue_search != \"yes\" or continue_search != \"y\" or continue_search != \"no\" or continue_search != \"n\":\n",
    "        print(\"enter valid input\")\n"
   ]
  },
  {
   "cell_type": "code",
   "execution_count": null,
   "id": "4aad4fa1",
   "metadata": {},
   "outputs": [],
   "source": []
  },
  {
   "cell_type": "code",
   "execution_count": null,
   "id": "43bc9350",
   "metadata": {},
   "outputs": [],
   "source": []
  }
 ],
 "metadata": {
  "kernelspec": {
   "display_name": "Python 3",
   "language": "python",
   "name": "python3"
  },
  "language_info": {
   "codemirror_mode": {
    "name": "ipython",
    "version": 3
   },
   "file_extension": ".py",
   "mimetype": "text/x-python",
   "name": "python",
   "nbconvert_exporter": "python",
   "pygments_lexer": "ipython3",
   "version": "3.12.11"
  }
 },
 "nbformat": 4,
 "nbformat_minor": 5
}
