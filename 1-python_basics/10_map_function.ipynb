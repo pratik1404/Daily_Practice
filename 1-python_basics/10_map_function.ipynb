{
 "cells": [
  {
   "cell_type": "markdown",
   "id": "0ae72952",
   "metadata": {},
   "source": [
    "# map function \n",
    "\n",
    "* map() is a built-in Python function that lets you apply a function to every item in a list (or any iterable) — and gives you a new map object with the results.\n",
    "\n"
   ]
  },
  {
   "cell_type": "markdown",
   "id": "59be7707",
   "metadata": {},
   "source": [
    "### Syntax \n",
    "\n",
    "* map(function, iterable)\n"
   ]
  },
  {
   "cell_type": "code",
   "execution_count": 13,
   "id": "032b0735",
   "metadata": {},
   "outputs": [
    {
     "name": "stdout",
     "output_type": "stream",
     "text": [
      "[1, 4, 9, 16, 25, 36, 49, 64, 81]\n"
     ]
    }
   ],
   "source": [
    "# method 1 map function with using lambda \n",
    " \n",
    "numbers1 = [1, 2, 3, 4, 5, 6, 7, 8, 9]\n",
    "\n",
    "results = map(lambda x : x ** 2 , numbers1)\n",
    "print(list(results))"
   ]
  },
  {
   "cell_type": "code",
   "execution_count": 6,
   "id": "2f032617",
   "metadata": {},
   "outputs": [
    {
     "name": "stdout",
     "output_type": "stream",
     "text": [
      "[1, 4, 9, 16, 25, 36, 49, 64, 81]\n"
     ]
    }
   ],
   "source": [
    "## using map function using def function\n",
    "\n",
    "lst = [1, 2, 3, 4, 5, 6, 7, 8, 9]\n",
    "def sqr(num):\n",
    "    return num ** 2\n",
    "\n",
    "results = map(sqr , lst)\n",
    "print(list(results))"
   ]
  },
  {
   "cell_type": "code",
   "execution_count": 14,
   "id": "0860bc7b",
   "metadata": {},
   "outputs": [
    {
     "data": {
      "text/plain": [
       "[1, 4, 9, 16, 25, 36, 49, 64, 81]"
      ]
     },
     "execution_count": 14,
     "metadata": {},
     "output_type": "execute_result"
    }
   ],
   "source": [
    "## Method 2\n",
    "\n",
    "def squares(x):\n",
    "    return x**2\n",
    "\n",
    "\n",
    "numbers3 = [1,  2, 3, 4, 5, 6, 7, 8, 9]\n",
    "\n",
    "list(map(squares , numbers3))"
   ]
  },
  {
   "cell_type": "code",
   "execution_count": 22,
   "id": "1c3c162b",
   "metadata": {},
   "outputs": [
    {
     "name": "stdout",
     "output_type": "stream",
     "text": [
      "[6, 8, 10, 12]\n"
     ]
    }
   ],
   "source": [
    "## Multiple iterables\n",
    "\n",
    "lst1 = [1, 2, 3, 4]\n",
    "lst2 = [5, 6, 7, 8]\n",
    "\n",
    "combine = map(lambda x, y : x+y ,lst1 , lst2 )\n",
    "print(list(combine))\n"
   ]
  },
  {
   "cell_type": "code",
   "execution_count": 12,
   "id": "c72207c7",
   "metadata": {},
   "outputs": [
    {
     "name": "stdout",
     "output_type": "stream",
     "text": [
      "str numbers list :-['1', '2', '3', '4', '5']\n",
      "integer number list :-[1, 2, 3, 4, 5]\n"
     ]
    }
   ],
   "source": [
    "## map function to create list of string numbers into integers \n",
    "\n",
    "numbers4 = ['1' , '2' , '3', '4', '5']\n",
    "int_numbers = list(map(int , numbers4))\n",
    "print(f\"str numbers list :-{numbers4}\")\n",
    "print(f\"integer number list :-{int_numbers}\")"
   ]
  },
  {
   "cell_type": "code",
   "execution_count": 30,
   "id": "b6990a81",
   "metadata": {},
   "outputs": [
    {
     "name": "stdout",
     "output_type": "stream",
     "text": [
      "['APPLE', 'BANANA', 'CHERRY']\n"
     ]
    }
   ],
   "source": [
    "words = [\"apple\", \"banana\", \"cherry\"]\n",
    "upper_word = list(map(str.upper , words))\n",
    "print(upper_word)"
   ]
  },
  {
   "cell_type": "code",
   "execution_count": 32,
   "id": "5fee1bd6",
   "metadata": {},
   "outputs": [
    {
     "data": {
      "text/plain": [
       "['Pratik', 'Pushkar', 'Akshay']"
      ]
     },
     "execution_count": 32,
     "metadata": {},
     "output_type": "execute_result"
    }
   ],
   "source": [
    "def get_names(person):\n",
    "    return person['name']\n",
    "\n",
    "\n",
    "people = [\n",
    "    {\"name\": \"Pratik\" , \"age\":21 , \"city\": \"Pune\"},\n",
    "    {\"name\": \"Pushkar\", \"age\":21 , \"city\": \"Banglore\"},\n",
    "    {\"name\": \"Akshay\" , \"age\":20 , \"city\": \"Nagpur\"}\n",
    "]\n",
    "\n",
    "list(map(get_names , people))"
   ]
  },
  {
   "cell_type": "code",
   "execution_count": null,
   "id": "9de73d42",
   "metadata": {},
   "outputs": [],
   "source": []
  }
 ],
 "metadata": {
  "kernelspec": {
   "display_name": "Python 3",
   "language": "python",
   "name": "python3"
  },
  "language_info": {
   "codemirror_mode": {
    "name": "ipython",
    "version": 3
   },
   "file_extension": ".py",
   "mimetype": "text/x-python",
   "name": "python",
   "nbconvert_exporter": "python",
   "pygments_lexer": "ipython3",
   "version": "3.12.11"
  }
 },
 "nbformat": 4,
 "nbformat_minor": 5
}
