{
 "cells": [
  {
   "cell_type": "markdown",
   "id": "d0361248",
   "metadata": {},
   "source": [
    "### Python is known for its number of libraries that make the code easy by using inbuild libraries .\n",
    "\n",
    "#### Syntax for importing Library is :-\n",
    "* import library_name "
   ]
  },
  {
   "cell_type": "code",
   "execution_count": 4,
   "id": "39167134",
   "metadata": {},
   "outputs": [
    {
     "name": "stdout",
     "output_type": "stream",
     "text": [
      "6\n",
      "10\n",
      "9\n",
      "3\n",
      "6\n",
      "1\n",
      "9\n",
      "9\n",
      "3\n",
      "1\n",
      "chikku\n"
     ]
    }
   ],
   "source": [
    "import random \n",
    "\n",
    "count = 10\n",
    "while count > 0:\n",
    "    print(random.randint(1,10))\n",
    "    count -= 1\n",
    "\n",
    "print(random.choice([\"apple\" , \"banana\" , \"chikku\" , \"papaya\"]))\n"
   ]
  },
  {
   "cell_type": "code",
   "execution_count": 5,
   "id": "8a88864c",
   "metadata": {},
   "outputs": [
    {
     "name": "stdout",
     "output_type": "stream",
     "text": [
      "4.0\n",
      "3.141592653589793\n",
      "1024.0\n"
     ]
    }
   ],
   "source": [
    "from math import *\n",
    "\n",
    "print(sqrt(16))\n",
    "print(pi)\n",
    "print(pow(32, 2))"
   ]
  },
  {
   "cell_type": "code",
   "execution_count": 6,
   "id": "a029933b",
   "metadata": {},
   "outputs": [
    {
     "name": "stdout",
     "output_type": "stream",
     "text": [
      "d:\\python\\1-python_basics\\basic_syntax\n"
     ]
    }
   ],
   "source": [
    "## file and directory access \n",
    "\n",
    "import os \n",
    "\n",
    "print(os.getcwd())"
   ]
  },
  {
   "cell_type": "code",
   "execution_count": 7,
   "id": "03dedbc0",
   "metadata": {},
   "outputs": [],
   "source": [
    "os.mkdir(\"testing\")\n",
    "open(\"file.txt\", 'w').close()  # ✅ Creates an empty file\n"
   ]
  },
  {
   "cell_type": "code",
   "execution_count": 8,
   "id": "11755d6b",
   "metadata": {},
   "outputs": [
    {
     "data": {
      "text/plain": [
       "'destinatn.txt'"
      ]
     },
     "execution_count": 8,
     "metadata": {},
     "output_type": "execute_result"
    }
   ],
   "source": [
    "## High level operations on files and collections of files \n",
    "\n",
    "import shutil \n",
    "shutil.copyfile('refrence.txt' , \"destinatn.txt\")    # copy data from file-1 to file-2"
   ]
  },
  {
   "cell_type": "code",
   "execution_count": 14,
   "id": "e33af59d",
   "metadata": {},
   "outputs": [
    {
     "name": "stdout",
     "output_type": "stream",
     "text": [
      "{\"name\": \"Pratik\", \"age\": 21, \"City\": \"Pune\"}\n",
      "<class 'str'>\n",
      "<class 'dict'>\n",
      "\n",
      "{'name': 'Pratik', 'age': 21, 'City': 'Pune'}\n",
      "<class 'dict'>\n"
     ]
    }
   ],
   "source": [
    "## Data serialization\n",
    "\n",
    "import json \n",
    "\n",
    "data =  {\"name\" : \"Pratik\" , \"age\" : 21 , \"City\" : \"Pune\"}\n",
    "\n",
    "json_str = json.dumps(data)\n",
    "print(json_str)\n",
    "print(type(json_str))\n",
    "print(type(data))\n",
    "\n",
    "print()\n",
    "\n",
    "parsed_data = json.loads(json_str)\n",
    "print(parsed_data)\n",
    "print(type(parsed_data))"
   ]
  },
  {
   "cell_type": "code",
   "execution_count": 17,
   "id": "6ddf2a98",
   "metadata": {},
   "outputs": [
    {
     "name": "stdout",
     "output_type": "stream",
     "text": [
      "['name', 'age', 'city']\n",
      "['Pratik', '21', 'Pune']\n"
     ]
    }
   ],
   "source": [
    "import csv\n",
    "\n",
    "with open(\"example.csv\" ,mode = \"w\" , newline = '') as file :\n",
    "    writer = csv.writer(file)\n",
    "    writer.writerow([\"name\" , \"age\" , \"city\"])\n",
    "    writer.writerow([\"Pratik\" , 21 , \"Pune\"])\n",
    "\n",
    "with open(\"example.csv\" , mode ='r') as file :\n",
    "    reader = csv.reader(file)\n",
    "    for row in reader:\n",
    "        print(row)\n",
    "\n"
   ]
  },
  {
   "cell_type": "code",
   "execution_count": 21,
   "id": "24b0c1fd",
   "metadata": {},
   "outputs": [
    {
     "name": "stdout",
     "output_type": "stream",
     "text": [
      "2\n"
     ]
    }
   ],
   "source": [
    "## Regular expression\n",
    "\n",
    "import re\n",
    "\n",
    "pattern = r\"\\d+\"   # d is atchully used for recognizing digit\n",
    "\n",
    "text = \"There are apples inside this 2 boxes.\"\n",
    "match  = re.search(pattern , text)\n",
    "print(match.group())"
   ]
  },
  {
   "cell_type": "code",
   "execution_count": null,
   "id": "546bf492",
   "metadata": {},
   "outputs": [],
   "source": []
  }
 ],
 "metadata": {
  "kernelspec": {
   "display_name": "Python 3",
   "language": "python",
   "name": "python3"
  },
  "language_info": {
   "codemirror_mode": {
    "name": "ipython",
    "version": 3
   },
   "file_extension": ".py",
   "mimetype": "text/x-python",
   "name": "python",
   "nbconvert_exporter": "python",
   "pygments_lexer": "ipython3",
   "version": "3.12.11"
  }
 },
 "nbformat": 4,
 "nbformat_minor": 5
}
