{
 "cells": [
  {
   "cell_type": "markdown",
   "id": "cd50798c",
   "metadata": {},
   "source": [
    "# A lambda function is a small, anonymous (unnamed) function in Python that is used for short operations.\n",
    "\n",
    "* 👉 It's often used when you need a quick function for 1 line of logic — without defining a full def function.\n",
    "\n",
    "### Syntax:\n",
    "\n",
    "### lambda arguments : expression\n",
    "\n",
    "* lambda → keyword\n",
    "* arguments → input(s) like x, x, y, etc.\n",
    "* expression → single line operation (no return keyword needed)\n",
    "\n"
   ]
  },
  {
   "cell_type": "code",
   "execution_count": 1,
   "id": "097007cb",
   "metadata": {},
   "outputs": [
    {
     "name": "stdout",
     "output_type": "stream",
     "text": [
      "6\n"
     ]
    }
   ],
   "source": [
    "addition = lambda a,b: a+b \n",
    "print(addition(2, 4)) "
   ]
  },
  {
   "cell_type": "code",
   "execution_count": 8,
   "id": "29412833",
   "metadata": {},
   "outputs": [
    {
     "name": "stdout",
     "output_type": "stream",
     "text": [
      " Number is even ? False\n"
     ]
    }
   ],
   "source": [
    "even = lambda num : num % 2 == 0 \n",
    "print(f\" Number is even ? {even(int(input(\"enter the number\")))}\")"
   ]
  },
  {
   "cell_type": "code",
   "execution_count": 11,
   "id": "050595d7",
   "metadata": {},
   "outputs": [
    {
     "name": "stdout",
     "output_type": "stream",
     "text": [
      "9\n"
     ]
    }
   ],
   "source": [
    "addition1 = lambda x, y, z : x+y+z\n",
    "print(addition1(2, 3, 4))"
   ]
  },
  {
   "cell_type": "code",
   "execution_count": 17,
   "id": "f921d6e2",
   "metadata": {},
   "outputs": [
    {
     "data": {
      "text/plain": [
       "[1, 4, 9, 16, 25, 36, 49, 64, 81]"
      ]
     },
     "execution_count": 17,
     "metadata": {},
     "output_type": "execute_result"
    }
   ],
   "source": [
    "## Squaring numbers using map and lambda \n",
    "\n",
    "numbers = [1, 2, 3,4, 5, 6, 7, 8, 9]\n",
    "\n",
    "list(map(lambda x : x**2 , numbers))"
   ]
  },
  {
   "cell_type": "code",
   "execution_count": null,
   "id": "41f53dce",
   "metadata": {},
   "outputs": [],
   "source": [
    " "
   ]
  }
 ],
 "metadata": {
  "kernelspec": {
   "display_name": "Python 3",
   "language": "python",
   "name": "python3"
  },
  "language_info": {
   "codemirror_mode": {
    "name": "ipython",
    "version": 3
   },
   "file_extension": ".py",
   "mimetype": "text/x-python",
   "name": "python",
   "nbconvert_exporter": "python",
   "pygments_lexer": "ipython3",
   "version": "3.12.11"
  }
 },
 "nbformat": 4,
 "nbformat_minor": 5
}
