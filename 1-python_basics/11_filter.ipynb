{
 "cells": [
  {
   "cell_type": "markdown",
   "id": "453ed6a4",
   "metadata": {},
   "source": [
    "### The filter() Function in python \n",
    "\n",
    "#### The filter() function in Python is used to filter elements from a sequence (like a list, tuple, or string) based on a condition provided by a function.\n",
    "\n",
    "### Syntax:\n",
    "\n",
    "* Filter(function, iterable)\n",
    "\n",
    "\n",
    "* Function: A function that returns True or False for each element.\n",
    "\n",
    "* Iterable: A sequence (like list, tuple, etc.) whose elements are tested.\n",
    "\n",
    "* It returns a filter object, which is an iterator. To view the result, you usually convert it to a list or tuple."
   ]
  },
  {
   "cell_type": "code",
   "execution_count": 17,
   "id": "e657bf60",
   "metadata": {},
   "outputs": [],
   "source": [
    "def even(num):\n",
    "    if num % 2 == 0:\n",
    "        return True\n",
    "def odd(num):\n",
    "    if num % 2 != 0:\n",
    "        return True\n",
    "\n",
    "even(23)"
   ]
  },
  {
   "cell_type": "code",
   "execution_count": 21,
   "id": "ec8b2aa7",
   "metadata": {},
   "outputs": [
    {
     "name": "stdout",
     "output_type": "stream",
     "text": [
      "[2, 4, 6, 8, 10, 12]\n",
      "[1, 3, 5, 7, 9, 11]\n"
     ]
    }
   ],
   "source": [
    "lst = [1, 2, 3, 4, 5, 6, 7, 8, 9, 10, 11, 12]\n",
    "\n",
    "print(list(filter(even , lst)))\n",
    "print(list(filter(odd , lst)))"
   ]
  },
  {
   "cell_type": "code",
   "execution_count": null,
   "id": "035430d4",
   "metadata": {},
   "outputs": [
    {
     "name": "stdout",
     "output_type": "stream",
     "text": [
      "[6, 67, 7, 8, 9]\n"
     ]
    }
   ],
   "source": [
    "# filter with lambda function\n",
    "\n",
    "\n",
    "numbers = [1, 2, 3, 4, 5, 6, 67, 7, 8, 9]\n",
    "\n",
    "\n",
    "greater_than_five = list(filter(lambda x : x > 5 , numbers)) \n",
    "\n",
    "print(greater_than_five)"
   ]
  },
  {
   "cell_type": "code",
   "execution_count": 41,
   "id": "149fca29",
   "metadata": {},
   "outputs": [
    {
     "name": "stdout",
     "output_type": "stream",
     "text": [
      "[6, 8, 372, 76, 78, 78, 8, 90]\n"
     ]
    }
   ],
   "source": [
    "lst1 = [1, 2, 3, 4, 5, 6, 7, 8, 9, 345,372, 76, 78, 4, 2,3, 4,5, 78,8 ,89 ,90 ]\n",
    "\n",
    "greater_than_five_and_even = list(filter(lambda x : x > 5 and x % 2 == 0 , lst1))\n",
    "print(greater_than_five_and_even)"
   ]
  },
  {
   "cell_type": "code",
   "execution_count": 42,
   "id": "f77b862b",
   "metadata": {},
   "outputs": [
    {
     "data": {
      "text/plain": [
       "[{'name': 'Pratik', 'age': 21, 'City': 'Pune'},\n",
       " {'name': 'Nital', 'age': 24, 'City': 'sulwade'}]"
      ]
     },
     "execution_count": 42,
     "metadata": {},
     "output_type": "execute_result"
    }
   ],
   "source": [
    "people = [\n",
    "    {\"name\" : \"Pratik\", \"age\" : 21 , \"City\": \"Pune\"},\n",
    "    {\"name\" : \"Bhagwati\", \"age\" : 18 , \"City\": \"Pune\"},\n",
    "    {\"name\" : \"Nital\", \"age\" : 24 , \"City\": \"sulwade\"}\n",
    "]\n",
    "\n",
    "\n",
    "def adult(people):\n",
    "    return people[\"age\"] > 18\n",
    "\n",
    "list(filter(adult , people))"
   ]
  },
  {
   "cell_type": "code",
   "execution_count": null,
   "id": "f1c22265",
   "metadata": {},
   "outputs": [],
   "source": []
  }
 ],
 "metadata": {
  "kernelspec": {
   "display_name": "Python 3",
   "language": "python",
   "name": "python3"
  },
  "language_info": {
   "codemirror_mode": {
    "name": "ipython",
    "version": 3
   },
   "file_extension": ".py",
   "mimetype": "text/x-python",
   "name": "python",
   "nbconvert_exporter": "python",
   "pygments_lexer": "ipython3",
   "version": "3.12.11"
  }
 },
 "nbformat": 4,
 "nbformat_minor": 5
}
