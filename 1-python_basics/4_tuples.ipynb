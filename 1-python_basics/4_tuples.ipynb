{
 "cells": [
  {
   "cell_type": "markdown",
   "id": "6b524c07",
   "metadata": {},
   "source": [
    "# Tuples"
   ]
  },
  {
   "cell_type": "code",
   "execution_count": null,
   "id": "e25a192b",
   "metadata": {},
   "outputs": [],
   "source": [
    "#Tuples are ordered, immutable collections of items. They are similar to lists but cannot be changed after creation. \n",
    "# Tuples are defined using parentheses `()`."
   ]
  },
  {
   "cell_type": "code",
   "execution_count": 2,
   "id": "422e1f55",
   "metadata": {},
   "outputs": [
    {
     "name": "stdout",
     "output_type": "stream",
     "text": [
      "<class 'list'>\n",
      "<class 'tuple'>\n"
     ]
    }
   ],
   "source": [
    "lst = list()\n",
    "tup = tuple()\n",
    "print(type(lst))  \n",
    "print(type(tup))  \n"
   ]
  },
  {
   "cell_type": "code",
   "execution_count": 3,
   "id": "e570023c",
   "metadata": {},
   "outputs": [
    {
     "name": "stdout",
     "output_type": "stream",
     "text": [
      "()\n",
      "<class 'tuple'>\n"
     ]
    }
   ],
   "source": [
    "empty_tpl = ()\n",
    "print(empty_tpl)  \n",
    "print(type(empty_tpl))"
   ]
  },
  {
   "cell_type": "code",
   "execution_count": 35,
   "id": "c78db596",
   "metadata": {},
   "outputs": [
    {
     "name": "stdout",
     "output_type": "stream",
     "text": [
      "<class 'tuple'>\n"
     ]
    }
   ],
   "source": [
    "numbers = tuple([1, 2, 3, 4, 5,5, 6, 6, 7, 8, 9])\n",
    "print(type(numbers))"
   ]
  },
  {
   "cell_type": "code",
   "execution_count": 36,
   "id": "1bba576b",
   "metadata": {},
   "outputs": [
    {
     "data": {
      "text/plain": [
       "(1, 'Hello, World!')"
      ]
     },
     "execution_count": 36,
     "metadata": {},
     "output_type": "execute_result"
    }
   ],
   "source": [
    "mixed_tuple = (1, \"Hello, World!\")\n",
    "mixed_tuple"
   ]
  },
  {
   "cell_type": "code",
   "execution_count": 37,
   "id": "2b3807a9",
   "metadata": {},
   "outputs": [
    {
     "name": "stdout",
     "output_type": "stream",
     "text": [
      "(1, 2, 3, 4)\n",
      "3\n",
      "(2, 3, 4, 5, 5, 6, 6, 7, 8, 9)\n",
      "(1, 2, 3, 4)\n",
      "(9, 8, 7, 6, 6, 5, 5, 4, 3, 2, 1)\n",
      "(1, 3, 5, 6, 7)\n"
     ]
    }
   ],
   "source": [
    "## Accessing Tuple Element \n",
    "print(numbers[0:4])\n",
    "print(numbers[2])\n",
    "print(numbers[1:])\n",
    "print(numbers[:4])\n",
    "print(numbers[::-1])\n",
    "print(numbers[0:9:2])"
   ]
  },
  {
   "cell_type": "code",
   "execution_count": 38,
   "id": "891d0db5",
   "metadata": {},
   "outputs": [
    {
     "name": "stdout",
     "output_type": "stream",
     "text": [
      "(1, 2, 3, 4, 5, 5, 6, 6, 7, 8, 9, 1, 'Hello, World!')\n"
     ]
    }
   ],
   "source": [
    "# Tuple operation \n",
    "\n",
    "concatanation_tuple = numbers + mixed_tuple\n",
    "print(concatanation_tuple)"
   ]
  },
  {
   "cell_type": "code",
   "execution_count": 39,
   "id": "ea68a130",
   "metadata": {},
   "outputs": [
    {
     "data": {
      "text/plain": [
       "(1, 'Hello, World!', 1, 'Hello, World!', 1, 'Hello, World!')"
      ]
     },
     "execution_count": 39,
     "metadata": {},
     "output_type": "execute_result"
    }
   ],
   "source": [
    "mixed_tuple * 3"
   ]
  },
  {
   "cell_type": "code",
   "execution_count": 40,
   "id": "2e2f5bfd",
   "metadata": {},
   "outputs": [
    {
     "ename": "AttributeError",
     "evalue": "'tuple' object has no attribute 'pop'",
     "output_type": "error",
     "traceback": [
      "\u001b[1;31m---------------------------------------------------------------------------\u001b[0m",
      "\u001b[1;31mAttributeError\u001b[0m                            Traceback (most recent call last)",
      "Cell \u001b[1;32mIn[40], line 1\u001b[0m\n\u001b[1;32m----> 1\u001b[0m \u001b[43mmixed_tuple\u001b[49m\u001b[38;5;241;43m.\u001b[39;49m\u001b[43mpop\u001b[49m() \u001b[38;5;66;03m## Hence Tuple are immutable that means we cannot change it after creation\u001b[39;00m\n",
      "\u001b[1;31mAttributeError\u001b[0m: 'tuple' object has no attribute 'pop'"
     ]
    }
   ],
   "source": [
    "mixed_tuple.pop() ## Hence Tuple are immutable that means we cannot change it after creation"
   ]
  },
  {
   "cell_type": "code",
   "execution_count": 41,
   "id": "5ce5fbf6",
   "metadata": {},
   "outputs": [
    {
     "data": {
      "text/plain": [
       "7"
      ]
     },
     "execution_count": 41,
     "metadata": {},
     "output_type": "execute_result"
    }
   ],
   "source": [
    "lst = [1, 2, 3 , 4,5 ,5, 6, 7]\n",
    "lst.pop()"
   ]
  },
  {
   "cell_type": "code",
   "execution_count": 44,
   "id": "70766b61",
   "metadata": {},
   "outputs": [
    {
     "name": "stdout",
     "output_type": "stream",
     "text": [
      "(1, 2, 3, 4, 5, 5, 6, 6, 7, 8, 9)\n",
      "2\n",
      "6\n"
     ]
    }
   ],
   "source": [
    "print(numbers)\n",
    "\n",
    "## Tuple Method\n",
    "\n",
    "print(numbers.count(5))\n",
    "print(numbers.index(6))"
   ]
  },
  {
   "cell_type": "code",
   "execution_count": 68,
   "id": "e4c537d8",
   "metadata": {},
   "outputs": [
    {
     "name": "stdout",
     "output_type": "stream",
     "text": [
      "(1, 2, 'hello', 3.14)\n"
     ]
    }
   ],
   "source": [
    "# Packing a Tuple\n",
    "packed_tuple = 1, 2, \"hello\" , 3.14\n",
    "print(packed_tuple)"
   ]
  },
  {
   "cell_type": "code",
   "execution_count": 53,
   "id": "3b98553a",
   "metadata": {},
   "outputs": [
    {
     "name": "stdout",
     "output_type": "stream",
     "text": [
      "1\n",
      "2\n",
      "hello\n",
      "3.14\n"
     ]
    }
   ],
   "source": [
    "## Unpacking a Tuple \n",
    "\n",
    "a, b, c, d = packed_tuple\n",
    "print(a)\n",
    "print(b)\n",
    "print(c)\n",
    "print(d)"
   ]
  },
  {
   "cell_type": "code",
   "execution_count": 69,
   "id": "1ec21ebc",
   "metadata": {},
   "outputs": [
    {
     "name": "stdout",
     "output_type": "stream",
     "text": [
      "(1, 2, 3, 4, 5, 6, 7)\n",
      "1\n",
      "[2, 3, 4, 5, 6]\n",
      "2 3 4 5 6\n",
      "7\n"
     ]
    }
   ],
   "source": [
    "# unpacking tuple but what if tuple have many items and we declare only few \n",
    "# example is :-\n",
    "\n",
    "num_tuple = 1, 2, 3, 4, 5, 6, 7\n",
    "print(num_tuple)\n",
    "\n",
    "a, *b  , c = num_tuple\n",
    "print(a)\n",
    "print(b)\n",
    "print(*b)\n",
    "print(c)\n",
    "\n"
   ]
  },
  {
   "cell_type": "code",
   "execution_count": null,
   "id": "b148b61d",
   "metadata": {},
   "outputs": [
    {
     "name": "stdout",
     "output_type": "stream",
     "text": [
      "1 2 3 4 \n",
      "Hello 4 3.14 c \n",
      "5 6 7 8 \n",
      "True False \n"
     ]
    }
   ],
   "source": [
    "## Nested Tuple\n",
    "\n",
    "nested_tuple = ((1, 2, 3, 4) , (\"Hello\" , 4, 3.14 , \"c\") ,(5, 6, 7, 8) , (True , False))\n",
    "\n",
    "for sub_tuple in nested_tuple:\n",
    "    for items in sub_tuple:\n",
    "        print(items , end = \" \")\n",
    "\n",
    "    print()    ## this print is used to print the new line "
   ]
  },
  {
   "cell_type": "code",
   "execution_count": null,
   "id": "0d406301",
   "metadata": {},
   "outputs": [],
   "source": []
  }
 ],
 "metadata": {
  "kernelspec": {
   "display_name": "Python 3",
   "language": "python",
   "name": "python3"
  },
  "language_info": {
   "codemirror_mode": {
    "name": "ipython",
    "version": 3
   },
   "file_extension": ".py",
   "mimetype": "text/x-python",
   "name": "python",
   "nbconvert_exporter": "python",
   "pygments_lexer": "ipython3",
   "version": "3.12.11"
  }
 },
 "nbformat": 4,
 "nbformat_minor": 5
}
