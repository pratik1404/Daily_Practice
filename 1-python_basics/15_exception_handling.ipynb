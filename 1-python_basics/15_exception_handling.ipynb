{
 "cells": [
  {
   "cell_type": "markdown",
   "id": "93835f63",
   "metadata": {},
   "source": [
    "### Exception Handling\n",
    "\n",
    "#### When you run a Python program, sometimes it may face an error (like dividing by zero, missing file, etc). These errors are called \"exceptions\", and Python will stop the program if you don’t handle them. So, exception handling is a way to catch these errors and let the program continue running smoothly."
   ]
  },
  {
   "cell_type": "markdown",
   "id": "380ccac6",
   "metadata": {},
   "source": [
    "### Syntax for using exception handling is \n",
    "```python\n",
    "try:\n",
    "    # Code that might give error\n",
    "except:\n",
    "    # Code that runs if error happens\n",
    "```"
   ]
  },
  {
   "cell_type": "code",
   "execution_count": 8,
   "id": "dacc05b2",
   "metadata": {},
   "outputs": [
    {
     "name": "stdout",
     "output_type": "stream",
     "text": [
      "Divide by zero Error\n"
     ]
    }
   ],
   "source": [
    "try :\n",
    "    num = 10 // 0\n",
    "    print(num)\n",
    "\n",
    "except :\n",
    "    print(\"Divide by zero Error\")"
   ]
  },
  {
   "cell_type": "markdown",
   "id": "4ddeee88",
   "metadata": {},
   "source": [
    "### What Are Exceptions in Python?\n",
    "* Exceptions are errors that happen while the program is running.\n",
    "### They stop the program unless we handle them."
   ]
  },
  {
   "cell_type": "markdown",
   "id": "2f7a055d",
   "metadata": {},
   "source": [
    "# Common error of exceptions\n",
    "\n",
    "| Exception Name      | When It Happens                              |\n",
    "| ------------------- | -------------------------------------------- |\n",
    "| `ZeroDivisionError` | You divide a number by zero                  |\n",
    "| `FileNotFoundError` | Trying to open a file that doesn’t exist     |\n",
    "| `ValueError`        | Wrong data type used                         |\n",
    "| `IndexError`        | Accessing an invalid list index              |\n",
    "| `KeyError`          | Using a missing key in a dictionary          |\n",
    "| `TypeError`         | Wrong type of operation (e.g. add int + str) |\n"
   ]
  },
  {
   "cell_type": "code",
   "execution_count": 9,
   "id": "6c8804b8",
   "metadata": {},
   "outputs": [
    {
     "ename": "NameError",
     "evalue": "name 'b' is not defined",
     "output_type": "error",
     "traceback": [
      "\u001b[1;31m---------------------------------------------------------------------------\u001b[0m",
      "\u001b[1;31mNameError\u001b[0m                                 Traceback (most recent call last)",
      "Cell \u001b[1;32mIn[9], line 1\u001b[0m\n\u001b[1;32m----> 1\u001b[0m a \u001b[38;5;241m=\u001b[39m \u001b[43mb\u001b[49m\n\u001b[0;32m      2\u001b[0m \u001b[38;5;28mprint\u001b[39m(a)\n",
      "\u001b[1;31mNameError\u001b[0m: name 'b' is not defined"
     ]
    }
   ],
   "source": [
    "a = b\n",
    "print(a)"
   ]
  },
  {
   "cell_type": "code",
   "execution_count": 10,
   "id": "4f7a83b6",
   "metadata": {},
   "outputs": [
    {
     "name": "stdout",
     "output_type": "stream",
     "text": [
      "vairable is not defined \n"
     ]
    }
   ],
   "source": [
    "try :\n",
    "    a = b\n",
    "except:\n",
    "    print(\"vairable is not defined \")"
   ]
  },
  {
   "cell_type": "code",
   "execution_count": 11,
   "id": "6f9ee993",
   "metadata": {},
   "outputs": [
    {
     "name": "stdout",
     "output_type": "stream",
     "text": [
      "name 'b' is not defined\n"
     ]
    }
   ],
   "source": [
    "try :\n",
    "    a = b\n",
    "except NameError as ex:\n",
    "    print(ex)\n"
   ]
  },
  {
   "cell_type": "code",
   "execution_count": 13,
   "id": "93e88512",
   "metadata": {},
   "outputs": [
    {
     "ename": "ZeroDivisionError",
     "evalue": "division by zero",
     "output_type": "error",
     "traceback": [
      "\u001b[1;31m---------------------------------------------------------------------------\u001b[0m",
      "\u001b[1;31mZeroDivisionError\u001b[0m                         Traceback (most recent call last)",
      "Cell \u001b[1;32mIn[13], line 1\u001b[0m\n\u001b[1;32m----> 1\u001b[0m divi \u001b[38;5;241m=\u001b[39m \u001b[38;5;241;43m1\u001b[39;49m\u001b[43m \u001b[49m\u001b[38;5;241;43m/\u001b[39;49m\u001b[43m \u001b[49m\u001b[38;5;241;43m0\u001b[39;49m\n\u001b[0;32m      2\u001b[0m \u001b[38;5;28mprint\u001b[39m(divi)\n",
      "\u001b[1;31mZeroDivisionError\u001b[0m: division by zero"
     ]
    }
   ],
   "source": [
    "divi = 1 / 0\n",
    "print(divi)"
   ]
  },
  {
   "cell_type": "code",
   "execution_count": 16,
   "id": "539543b1",
   "metadata": {},
   "outputs": [
    {
     "name": "stdout",
     "output_type": "stream",
     "text": [
      "division by zero\n",
      "You have entered denominator as zero(0) which is givving error so please enter any number othr than zero(0)\n"
     ]
    }
   ],
   "source": [
    "try :\n",
    "   num = 1/0\n",
    "   print(num)\n",
    "except ZeroDivisionError as zderr:\n",
    "   print(zderr)\n",
    "   print(\"You have entered denominator as zero(0) which is givving error so please enter any number othr than zero(0)\")"
   ]
  },
  {
   "cell_type": "markdown",
   "id": "7f90a222",
   "metadata": {},
   "source": [
    "#### Ok we have seen that exception are getting handeled .. but what if our code have exception that we dont know ?\n",
    "\n",
    "\n",
    "* So in this case we use the \"Exception\" . This is the main exception from which all other exceptions are derived.\n",
    "\n",
    "* Only the first error in the try block is caught and handled. The remaining lines in the try block are not executed. if you want to execute then use seperate try e exception block \n"
   ]
  },
  {
   "cell_type": "code",
   "execution_count": 3,
   "id": "741ce10a",
   "metadata": {},
   "outputs": [
    {
     "name": "stdout",
     "output_type": "stream",
     "text": [
      "name 'b' is not defined\n"
     ]
    }
   ],
   "source": [
    "try :\n",
    "    num = 1/1\n",
    "    a = b \n",
    "    print(num)\n",
    "    print(a)\n",
    "except ZeroDivisionError as zde:\n",
    "    print(zde)\n",
    "except Exception as ex:\n",
    "    print(ex)"
   ]
  },
  {
   "cell_type": "code",
   "execution_count": 42,
   "id": "a71e0763",
   "metadata": {},
   "outputs": [
    {
     "name": "stdout",
     "output_type": "stream",
     "text": [
      "2.529051987767584\n"
     ]
    }
   ],
   "source": [
    "#try , except \n",
    "try :\n",
    "    num1 = float(input(\"Enter the number: \"))\n",
    "    num2 = float(input(\"Enter the number: \"))\n",
    "    divi = num1/num2\n",
    "    print(divi)\n",
    "except ValueError:\n",
    "    print(\"This is not valid number , Enter the number\")\n",
    "except ZeroDivisionError:\n",
    "    print(\"Denominator cant be 0 , enter number other than 0\")\n",
    "except Exception as ex:\n",
    "    print(ex)\n"
   ]
  },
  {
   "cell_type": "code",
   "execution_count": 43,
   "id": "10b07878",
   "metadata": {},
   "outputs": [
    {
     "name": "stdout",
     "output_type": "stream",
     "text": [
      "9.772727272727273\n"
     ]
    }
   ],
   "source": [
    "## try , except , else \n",
    "\n",
    "try :\n",
    "    num1 = float(input(\"Enter the number: \"))\n",
    "    num2 = float(input(\"Enter the number: \"))\n",
    "    divi = num1/num2\n",
    "\n",
    "except ValueError:\n",
    "    print(\"This is not valid number , Enter the number\")\n",
    "except ZeroDivisionError:\n",
    "    print(\"Denominator cant be 0 , enter number other than 0\")\n",
    "except Exception as ex:\n",
    "    print(ex)\n",
    "else :\n",
    "    print(divi)"
   ]
  },
  {
   "cell_type": "code",
   "execution_count": 47,
   "id": "be1612ca",
   "metadata": {},
   "outputs": [
    {
     "name": "stdout",
     "output_type": "stream",
     "text": [
      "0.0\n",
      "Code is been executed.\n"
     ]
    }
   ],
   "source": [
    "## try , except , else , finally \n",
    "\n",
    "try :\n",
    "    num1 = float(input(\"Enter the number: \"))\n",
    "    num2 = float(input(\"Enter the number: \"))\n",
    "    divi = num1/num2\n",
    "\n",
    "except ValueError:\n",
    "    print(\"This is not valid number , Enter the number\")\n",
    "except ZeroDivisionError:\n",
    "    print(\"Denominator cant be 0 , enter number other than 0\")\n",
    "except Exception as ex:\n",
    "    print(ex)\n",
    "else :\n",
    "    print(divi)\n",
    "finally:\n",
    "    print(\"Code is been executed.\")"
   ]
  },
  {
   "cell_type": "code",
   "execution_count": null,
   "id": "e76f05b6",
   "metadata": {},
   "outputs": [],
   "source": []
  }
 ],
 "metadata": {
  "kernelspec": {
   "display_name": "Python 3",
   "language": "python",
   "name": "python3"
  },
  "language_info": {
   "codemirror_mode": {
    "name": "ipython",
    "version": 3
   },
   "file_extension": ".py",
   "mimetype": "text/x-python",
   "name": "python",
   "nbconvert_exporter": "python",
   "pygments_lexer": "ipython3",
   "version": "3.12.11"
  }
 },
 "nbformat": 4,
 "nbformat_minor": 5
}
