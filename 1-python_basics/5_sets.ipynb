{
 "cells": [
  {
   "cell_type": "markdown",
   "id": "d5baa4e1",
   "metadata": {},
   "source": [
    "# Sets \n",
    "\n",
    "### Sets are Unordered , collection of Non- Dupplicate items ..."
   ]
  },
  {
   "cell_type": "code",
   "execution_count": 12,
   "id": "52facad3",
   "metadata": {},
   "outputs": [
    {
     "name": "stdout",
     "output_type": "stream",
     "text": [
      "{1, 2, 3, 4, 5, 6}\n",
      "<class 'set'>\n"
     ]
    }
   ],
   "source": [
    "my_set = {1, 2, 3, 4, 5, 4, 5, 6, 1}    ## I have added duplicate items but they are not displayed in output\n",
    "\n",
    "print(my_set)\n",
    "print(type(my_set))"
   ]
  },
  {
   "cell_type": "code",
   "execution_count": 13,
   "id": "ce503b61",
   "metadata": {},
   "outputs": [
    {
     "name": "stdout",
     "output_type": "stream",
     "text": [
      "<class 'set'>\n"
     ]
    }
   ],
   "source": [
    "my_set1 = set()    # we can use inbuilt function to create set\n",
    "print(type(my_set1))"
   ]
  },
  {
   "cell_type": "code",
   "execution_count": 14,
   "id": "8b869b7e",
   "metadata": {},
   "outputs": [
    {
     "name": "stdout",
     "output_type": "stream",
     "text": [
      "{1, 2, 3, 4, 5, 6, 7, 8, 9}\n",
      "<class 'set'>\n"
     ]
    }
   ],
   "source": [
    "my_set1 = set([1, 2, 3, 4, 5, 6, 7, 8, 9])   # We can also create set by using list / Tuple inside set function\n",
    "print(my_set1)\n",
    "print(type(my_set1))"
   ]
  },
  {
   "cell_type": "code",
   "execution_count": 35,
   "id": "8fe240cc",
   "metadata": {},
   "outputs": [
    {
     "name": "stdout",
     "output_type": "stream",
     "text": [
      "{1, 2, 3, 4, 5}\n"
     ]
    }
   ],
   "source": [
    "my_set = {1, 2, 3, 4, 5}\n",
    "print(my_set)"
   ]
  },
  {
   "cell_type": "code",
   "execution_count": 36,
   "id": "2c235203",
   "metadata": {},
   "outputs": [
    {
     "name": "stdout",
     "output_type": "stream",
     "text": [
      "{1, 2, 3, 4, 5, 8}\n"
     ]
    }
   ],
   "source": [
    "## For adding any elemt in set wwe have to use \"add()\" function\n",
    "\n",
    "my_set.add(8)\n",
    "print(my_set)"
   ]
  },
  {
   "cell_type": "code",
   "execution_count": 37,
   "id": "e332cb16",
   "metadata": {},
   "outputs": [
    {
     "name": "stdout",
     "output_type": "stream",
     "text": [
      "{1, 3, 4, 5, 8}\n"
     ]
    }
   ],
   "source": [
    "## For removing any element from the set we have to use \"remove()\" function\n",
    "\n",
    "my_set.remove(2)\n",
    "print(my_set)"
   ]
  },
  {
   "cell_type": "code",
   "execution_count": 38,
   "id": "2f21034b",
   "metadata": {},
   "outputs": [
    {
     "name": "stdout",
     "output_type": "stream",
     "text": [
      "{3, 4, 5, 8}\n"
     ]
    }
   ],
   "source": [
    "my_set.pop() ### In set the pop work as FIFO(first in first out)\n",
    "print(my_set)"
   ]
  },
  {
   "cell_type": "code",
   "execution_count": 40,
   "id": "8e5fc03e",
   "metadata": {},
   "outputs": [
    {
     "name": "stdout",
     "output_type": "stream",
     "text": [
      "set()\n"
     ]
    }
   ],
   "source": [
    "# clear all elements in set is done by using clear() function\n",
    "\n",
    "my_set.clear()\n",
    "print(my_set)"
   ]
  },
  {
   "cell_type": "code",
   "execution_count": 41,
   "id": "c40d0a23",
   "metadata": {},
   "outputs": [
    {
     "name": "stdout",
     "output_type": "stream",
     "text": [
      "True\n",
      "False\n"
     ]
    }
   ],
   "source": [
    "## for checking if item is present in set or not \n",
    "my_set = {1, 2, 3, 4, 5, 6, 7, 8, 9}\n",
    "\n",
    "print(3 in my_set)\n",
    "print(11 in my_set)\n"
   ]
  },
  {
   "cell_type": "code",
   "execution_count": null,
   "id": "a7d49da8",
   "metadata": {},
   "outputs": [
    {
     "name": "stdout",
     "output_type": "stream",
     "text": [
      "{1, 2, 3, 4, 5, 6, 7, 8, 9}\n"
     ]
    }
   ],
   "source": [
    "## union fo 2 set / combining 2 sets \n",
    "\n",
    "set1 = {1, 2, 2, 3,4, 5,}\n",
    "set2 = {4, 4, 5, 6, 6, 7, 8, 9}\n",
    "\n",
    "set_final = set1.union(set2) \n",
    "print(set_final)"
   ]
  },
  {
   "cell_type": "code",
   "execution_count": 46,
   "id": "ae160ed0",
   "metadata": {},
   "outputs": [
    {
     "name": "stdout",
     "output_type": "stream",
     "text": [
      "{4, 5}\n"
     ]
    }
   ],
   "source": [
    "# Intersection  is used to give common elements from both the sets \n",
    "\n",
    "intersection_set = set1.intersection(set2)\n",
    "print(intersection_set)"
   ]
  },
  {
   "cell_type": "code",
   "execution_count": 50,
   "id": "d51cd4d0",
   "metadata": {},
   "outputs": [
    {
     "name": "stdout",
     "output_type": "stream",
     "text": [
      "{4, 5}\n"
     ]
    }
   ],
   "source": [
    "## If we want to update the comman elements in any of the set then we use set1.intersection_update(set2)\n",
    "\n",
    "\n",
    "intersection_udpate = set1.intersection_update(set2)\n",
    "print(set1)"
   ]
  },
  {
   "cell_type": "code",
   "execution_count": 59,
   "id": "86ba6b39",
   "metadata": {},
   "outputs": [
    {
     "name": "stdout",
     "output_type": "stream",
     "text": [
      "{2, 3}\n",
      "{8, 9, 6, 7}\n"
     ]
    }
   ],
   "source": [
    "# diffrence between set \n",
    "\n",
    "set1 = {1, 2, 2, 3,4, 5,}\n",
    "set2 = {4, 1, 5, 6, 7, 8, 9}\n",
    "\n",
    "diff1 = set1.difference(set2)\n",
    "print(diff1)\n",
    "\n",
    "diff2 = set2.difference(set1)\n",
    "print(diff2)"
   ]
  },
  {
   "cell_type": "code",
   "execution_count": 67,
   "id": "91cd855e",
   "metadata": {},
   "outputs": [
    {
     "name": "stdout",
     "output_type": "stream",
     "text": [
      "True\n",
      "False\n"
     ]
    }
   ],
   "source": [
    "## SET METHODS  \n",
    "\n",
    "set1 = {1, 2, 3, 4, 5}\n",
    "set2 = {2, 3, 4}\n",
    "\n",
    "# is subset\n",
    "\n",
    "print(set1.issuperset(set2))\n",
    "print(set1.issubset(set2))"
   ]
  },
  {
   "cell_type": "code",
   "execution_count": 70,
   "id": "26498598",
   "metadata": {},
   "outputs": [],
   "source": [
    "del set"
   ]
  },
  {
   "cell_type": "code",
   "execution_count": 71,
   "id": "552b609e",
   "metadata": {},
   "outputs": [
    {
     "name": "stdout",
     "output_type": "stream",
     "text": [
      "{'patil', 'pratik', 'and', 'i', 'for', 'is', 'am', 'text', 'split', 'the', 'testing', 'this', 'mr.', 'word'}\n",
      "14\n"
     ]
    }
   ],
   "source": [
    "# counting unique words in text \n",
    "text = \"this is the text for testing the word split and i am mr. pratik patil\"\n",
    "word = text.split()\n",
    "\n",
    "unique_word = set(word)\n",
    "print(unique_word)\n",
    "print(len(unique_word))\n",
    "\n"
   ]
  },
  {
   "cell_type": "code",
   "execution_count": null,
   "id": "8b475848",
   "metadata": {},
   "outputs": [],
   "source": []
  }
 ],
 "metadata": {
  "kernelspec": {
   "display_name": "Python 3",
   "language": "python",
   "name": "python3"
  },
  "language_info": {
   "codemirror_mode": {
    "name": "ipython",
    "version": 3
   },
   "file_extension": ".py",
   "mimetype": "text/x-python",
   "name": "python",
   "nbconvert_exporter": "python",
   "pygments_lexer": "ipython3",
   "version": "3.12.11"
  }
 },
 "nbformat": 4,
 "nbformat_minor": 5
}
